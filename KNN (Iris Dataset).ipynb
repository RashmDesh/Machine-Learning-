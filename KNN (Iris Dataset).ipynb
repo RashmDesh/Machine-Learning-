{
 "cells": [
  {
   "cell_type": "code",
   "execution_count": 1,
   "metadata": {},
   "outputs": [],
   "source": [
    "import numpy as np\n",
    "import pandas as pd\n",
    "\n",
    "import matplotlib.pyplot as plt\n",
    "import seaborn as sns\n",
    "from sklearn.cluster import KMeans\n",
    "from  itertools import cycle,islice\n",
    "from  pandas.plotting import parallel_coordinates\n",
    "from sklearn.neighbors import KNeighborsClassifier\n",
    "from sklearn.preprocessing import StandardScaler"
   ]
  },
  {
   "cell_type": "code",
   "execution_count": 2,
   "metadata": {},
   "outputs": [
    {
     "data": {
      "text/html": [
       "<div>\n",
       "<style scoped>\n",
       "    .dataframe tbody tr th:only-of-type {\n",
       "        vertical-align: middle;\n",
       "    }\n",
       "\n",
       "    .dataframe tbody tr th {\n",
       "        vertical-align: top;\n",
       "    }\n",
       "\n",
       "    .dataframe thead th {\n",
       "        text-align: right;\n",
       "    }\n",
       "</style>\n",
       "<table border=\"1\" class=\"dataframe\">\n",
       "  <thead>\n",
       "    <tr style=\"text-align: right;\">\n",
       "      <th></th>\n",
       "      <th>Id</th>\n",
       "      <th>SepalLengthCm</th>\n",
       "      <th>SepalWidthCm</th>\n",
       "      <th>PetalLengthCm</th>\n",
       "      <th>PetalWidthCm</th>\n",
       "      <th>Species</th>\n",
       "    </tr>\n",
       "  </thead>\n",
       "  <tbody>\n",
       "    <tr>\n",
       "      <th>0</th>\n",
       "      <td>1</td>\n",
       "      <td>5.1</td>\n",
       "      <td>3.5</td>\n",
       "      <td>1.4</td>\n",
       "      <td>0.2</td>\n",
       "      <td>Iris-setosa</td>\n",
       "    </tr>\n",
       "    <tr>\n",
       "      <th>1</th>\n",
       "      <td>2</td>\n",
       "      <td>4.9</td>\n",
       "      <td>3.0</td>\n",
       "      <td>1.4</td>\n",
       "      <td>0.2</td>\n",
       "      <td>Iris-setosa</td>\n",
       "    </tr>\n",
       "    <tr>\n",
       "      <th>2</th>\n",
       "      <td>3</td>\n",
       "      <td>4.7</td>\n",
       "      <td>3.2</td>\n",
       "      <td>1.3</td>\n",
       "      <td>0.2</td>\n",
       "      <td>Iris-setosa</td>\n",
       "    </tr>\n",
       "    <tr>\n",
       "      <th>3</th>\n",
       "      <td>4</td>\n",
       "      <td>4.6</td>\n",
       "      <td>3.1</td>\n",
       "      <td>1.5</td>\n",
       "      <td>0.2</td>\n",
       "      <td>Iris-setosa</td>\n",
       "    </tr>\n",
       "    <tr>\n",
       "      <th>4</th>\n",
       "      <td>5</td>\n",
       "      <td>5.0</td>\n",
       "      <td>3.6</td>\n",
       "      <td>1.4</td>\n",
       "      <td>0.2</td>\n",
       "      <td>Iris-setosa</td>\n",
       "    </tr>\n",
       "  </tbody>\n",
       "</table>\n",
       "</div>"
      ],
      "text/plain": [
       "   Id  SepalLengthCm  SepalWidthCm  PetalLengthCm  PetalWidthCm      Species\n",
       "0   1            5.1           3.5            1.4           0.2  Iris-setosa\n",
       "1   2            4.9           3.0            1.4           0.2  Iris-setosa\n",
       "2   3            4.7           3.2            1.3           0.2  Iris-setosa\n",
       "3   4            4.6           3.1            1.5           0.2  Iris-setosa\n",
       "4   5            5.0           3.6            1.4           0.2  Iris-setosa"
      ]
     },
     "execution_count": 2,
     "metadata": {},
     "output_type": "execute_result"
    }
   ],
   "source": [
    "df = pd.read_csv('C:/Users/lenovo/Desktop/datasets/Iris.csv')\n",
    "df.head()"
   ]
  },
  {
   "cell_type": "code",
   "execution_count": 20,
   "metadata": {},
   "outputs": [
    {
     "data": {
      "text/plain": [
       "(150, 6)"
      ]
     },
     "execution_count": 20,
     "metadata": {},
     "output_type": "execute_result"
    }
   ],
   "source": [
    "df.shape"
   ]
  },
  {
   "cell_type": "code",
   "execution_count": 21,
   "metadata": {},
   "outputs": [
    {
     "data": {
      "text/html": [
       "<div>\n",
       "<style scoped>\n",
       "    .dataframe tbody tr th:only-of-type {\n",
       "        vertical-align: middle;\n",
       "    }\n",
       "\n",
       "    .dataframe tbody tr th {\n",
       "        vertical-align: top;\n",
       "    }\n",
       "\n",
       "    .dataframe thead th {\n",
       "        text-align: right;\n",
       "    }\n",
       "</style>\n",
       "<table border=\"1\" class=\"dataframe\">\n",
       "  <thead>\n",
       "    <tr style=\"text-align: right;\">\n",
       "      <th></th>\n",
       "      <th>Id</th>\n",
       "      <th>SepalLengthCm</th>\n",
       "      <th>SepalWidthCm</th>\n",
       "      <th>PetalLengthCm</th>\n",
       "      <th>PetalWidthCm</th>\n",
       "    </tr>\n",
       "  </thead>\n",
       "  <tbody>\n",
       "    <tr>\n",
       "      <th>count</th>\n",
       "      <td>150.000000</td>\n",
       "      <td>150.000000</td>\n",
       "      <td>150.000000</td>\n",
       "      <td>150.000000</td>\n",
       "      <td>150.000000</td>\n",
       "    </tr>\n",
       "    <tr>\n",
       "      <th>mean</th>\n",
       "      <td>75.500000</td>\n",
       "      <td>5.843333</td>\n",
       "      <td>3.054000</td>\n",
       "      <td>3.758667</td>\n",
       "      <td>1.198667</td>\n",
       "    </tr>\n",
       "    <tr>\n",
       "      <th>std</th>\n",
       "      <td>43.445368</td>\n",
       "      <td>0.828066</td>\n",
       "      <td>0.433594</td>\n",
       "      <td>1.764420</td>\n",
       "      <td>0.763161</td>\n",
       "    </tr>\n",
       "    <tr>\n",
       "      <th>min</th>\n",
       "      <td>1.000000</td>\n",
       "      <td>4.300000</td>\n",
       "      <td>2.000000</td>\n",
       "      <td>1.000000</td>\n",
       "      <td>0.100000</td>\n",
       "    </tr>\n",
       "    <tr>\n",
       "      <th>25%</th>\n",
       "      <td>38.250000</td>\n",
       "      <td>5.100000</td>\n",
       "      <td>2.800000</td>\n",
       "      <td>1.600000</td>\n",
       "      <td>0.300000</td>\n",
       "    </tr>\n",
       "    <tr>\n",
       "      <th>50%</th>\n",
       "      <td>75.500000</td>\n",
       "      <td>5.800000</td>\n",
       "      <td>3.000000</td>\n",
       "      <td>4.350000</td>\n",
       "      <td>1.300000</td>\n",
       "    </tr>\n",
       "    <tr>\n",
       "      <th>75%</th>\n",
       "      <td>112.750000</td>\n",
       "      <td>6.400000</td>\n",
       "      <td>3.300000</td>\n",
       "      <td>5.100000</td>\n",
       "      <td>1.800000</td>\n",
       "    </tr>\n",
       "    <tr>\n",
       "      <th>max</th>\n",
       "      <td>150.000000</td>\n",
       "      <td>7.900000</td>\n",
       "      <td>4.400000</td>\n",
       "      <td>6.900000</td>\n",
       "      <td>2.500000</td>\n",
       "    </tr>\n",
       "  </tbody>\n",
       "</table>\n",
       "</div>"
      ],
      "text/plain": [
       "               Id  SepalLengthCm  SepalWidthCm  PetalLengthCm  PetalWidthCm\n",
       "count  150.000000     150.000000    150.000000     150.000000    150.000000\n",
       "mean    75.500000       5.843333      3.054000       3.758667      1.198667\n",
       "std     43.445368       0.828066      0.433594       1.764420      0.763161\n",
       "min      1.000000       4.300000      2.000000       1.000000      0.100000\n",
       "25%     38.250000       5.100000      2.800000       1.600000      0.300000\n",
       "50%     75.500000       5.800000      3.000000       4.350000      1.300000\n",
       "75%    112.750000       6.400000      3.300000       5.100000      1.800000\n",
       "max    150.000000       7.900000      4.400000       6.900000      2.500000"
      ]
     },
     "execution_count": 21,
     "metadata": {},
     "output_type": "execute_result"
    }
   ],
   "source": [
    "df.describe()"
   ]
  },
  {
   "cell_type": "code",
   "execution_count": 24,
   "metadata": {},
   "outputs": [
    {
     "data": {
      "text/html": [
       "<div>\n",
       "<style scoped>\n",
       "    .dataframe tbody tr th:only-of-type {\n",
       "        vertical-align: middle;\n",
       "    }\n",
       "\n",
       "    .dataframe tbody tr th {\n",
       "        vertical-align: top;\n",
       "    }\n",
       "\n",
       "    .dataframe thead th {\n",
       "        text-align: right;\n",
       "    }\n",
       "</style>\n",
       "<table border=\"1\" class=\"dataframe\">\n",
       "  <thead>\n",
       "    <tr style=\"text-align: right;\">\n",
       "      <th></th>\n",
       "      <th>Id</th>\n",
       "      <th>SepalLengthCm</th>\n",
       "      <th>SepalWidthCm</th>\n",
       "      <th>PetalLengthCm</th>\n",
       "      <th>PetalWidthCm</th>\n",
       "    </tr>\n",
       "  </thead>\n",
       "  <tbody>\n",
       "    <tr>\n",
       "      <th>Id</th>\n",
       "      <td>1.000000</td>\n",
       "      <td>0.716676</td>\n",
       "      <td>-0.397729</td>\n",
       "      <td>0.882747</td>\n",
       "      <td>0.899759</td>\n",
       "    </tr>\n",
       "    <tr>\n",
       "      <th>SepalLengthCm</th>\n",
       "      <td>0.716676</td>\n",
       "      <td>1.000000</td>\n",
       "      <td>-0.109369</td>\n",
       "      <td>0.871754</td>\n",
       "      <td>0.817954</td>\n",
       "    </tr>\n",
       "    <tr>\n",
       "      <th>SepalWidthCm</th>\n",
       "      <td>-0.397729</td>\n",
       "      <td>-0.109369</td>\n",
       "      <td>1.000000</td>\n",
       "      <td>-0.420516</td>\n",
       "      <td>-0.356544</td>\n",
       "    </tr>\n",
       "    <tr>\n",
       "      <th>PetalLengthCm</th>\n",
       "      <td>0.882747</td>\n",
       "      <td>0.871754</td>\n",
       "      <td>-0.420516</td>\n",
       "      <td>1.000000</td>\n",
       "      <td>0.962757</td>\n",
       "    </tr>\n",
       "    <tr>\n",
       "      <th>PetalWidthCm</th>\n",
       "      <td>0.899759</td>\n",
       "      <td>0.817954</td>\n",
       "      <td>-0.356544</td>\n",
       "      <td>0.962757</td>\n",
       "      <td>1.000000</td>\n",
       "    </tr>\n",
       "  </tbody>\n",
       "</table>\n",
       "</div>"
      ],
      "text/plain": [
       "                     Id  SepalLengthCm  SepalWidthCm  PetalLengthCm  \\\n",
       "Id             1.000000       0.716676     -0.397729       0.882747   \n",
       "SepalLengthCm  0.716676       1.000000     -0.109369       0.871754   \n",
       "SepalWidthCm  -0.397729      -0.109369      1.000000      -0.420516   \n",
       "PetalLengthCm  0.882747       0.871754     -0.420516       1.000000   \n",
       "PetalWidthCm   0.899759       0.817954     -0.356544       0.962757   \n",
       "\n",
       "               PetalWidthCm  \n",
       "Id                 0.899759  \n",
       "SepalLengthCm      0.817954  \n",
       "SepalWidthCm      -0.356544  \n",
       "PetalLengthCm      0.962757  \n",
       "PetalWidthCm       1.000000  "
      ]
     },
     "execution_count": 24,
     "metadata": {},
     "output_type": "execute_result"
    }
   ],
   "source": [
    "df.corr()"
   ]
  },
  {
   "cell_type": "code",
   "execution_count": 22,
   "metadata": {},
   "outputs": [
    {
     "data": {
      "text/plain": [
       "Id               0\n",
       "SepalLengthCm    0\n",
       "SepalWidthCm     0\n",
       "PetalLengthCm    0\n",
       "PetalWidthCm     0\n",
       "Species          0\n",
       "dtype: int64"
      ]
     },
     "execution_count": 22,
     "metadata": {},
     "output_type": "execute_result"
    }
   ],
   "source": [
    "df.isnull().sum()"
   ]
  },
  {
   "cell_type": "code",
   "execution_count": 23,
   "metadata": {},
   "outputs": [
    {
     "data": {
      "text/plain": [
       "array(['Iris-setosa', 'Iris-versicolor', 'Iris-virginica'], dtype=object)"
      ]
     },
     "execution_count": 23,
     "metadata": {},
     "output_type": "execute_result"
    }
   ],
   "source": [
    "df['Species'].unique()"
   ]
  },
  {
   "cell_type": "markdown",
   "metadata": {},
   "source": [
    "# Visulation"
   ]
  },
  {
   "cell_type": "code",
   "execution_count": 37,
   "metadata": {},
   "outputs": [
    {
     "data": {
      "image/png": "[encoded data removed]",
      "text/plain": [
       "<Figure size 432x288 with 1 Axes>"
      ]
     },
     "metadata": {},
     "output_type": "display_data"
    }
   ],
   "source": [
    "plt.pie(df['Species'].value_counts(), labels = df['Species'].value_counts().index,\n",
    "       autopct=\"%1.f\")\n",
    "plt.show()"
   ]
  },
  {
   "cell_type": "code",
   "execution_count": 39,
   "metadata": {},
   "outputs": [
    {
     "data": {
      "image/png": "[encoded data removed]",
      "text/plain": [
       "<Figure size 432x288 with 1 Axes>"
      ]
     },
     "metadata": {
      "needs_background": "light"
     },
     "output_type": "display_data"
    }
   ],
   "source": [
    "sns.boxplot(df['SepalLengthCm'])\n",
    "plt.show()"
   ]
  },
  {
   "cell_type": "code",
   "execution_count": 40,
   "metadata": {},
   "outputs": [
    {
     "data": {
      "image/png": "[encoded data removed]",
      "text/plain": [
       "<Figure size 432x288 with 1 Axes>"
      ]
     },
     "metadata": {
      "needs_background": "light"
     },
     "output_type": "display_data"
    }
   ],
   "source": [
    "sns.boxplot(y = df['SepalWidthCm'])\n",
    "plt.show()"
   ]
  },
  {
   "cell_type": "code",
   "execution_count": 45,
   "metadata": {},
   "outputs": [
    {
     "data": {
      "image/png": "[encoded data removed]",
      "text/plain": [
       "<Figure size 432x288 with 1 Axes>"
      ]
     },
     "metadata": {
      "needs_background": "light"
     },
     "output_type": "display_data"
    }
   ],
   "source": [
    "sns.boxplot(y = df['PetalLengthCm'])\n",
    "plt.show()"
   ]
  },
  {
   "cell_type": "code",
   "execution_count": 44,
   "metadata": {},
   "outputs": [
    {
     "data": {
      "image/png": "[encoded data removed]",
      "text/plain": [
       "<Figure size 432x288 with 1 Axes>"
      ]
     },
     "metadata": {
      "needs_background": "light"
     },
     "output_type": "display_data"
    }
   ],
   "source": [
    "sns.boxplot(y = df['PetalWidthCm'])\n",
    "plt.show()"
   ]
  },
  {
   "cell_type": "code",
   "execution_count": 46,
   "metadata": {},
   "outputs": [
    {
     "data": {
      "text/plain": [
       "<seaborn.axisgrid.PairGrid at 0x2495c52ac88>"
      ]
     },
     "execution_count": 46,
     "metadata": {},
     "output_type": "execute_result"
    },
    {
     "data": {
      "image/png": "[encoded data removed]",
      "text/plain": [
       "<Figure size 1003.5x900 with 30 Axes>"
      ]
     },
     "metadata": {
      "needs_background": "light"
     },
     "output_type": "display_data"
    }
   ],
   "source": [
    "sns.pairplot(df, hue = 'Species')"
   ]
  },
  {
   "cell_type": "code",
   "execution_count": 48,
   "metadata": {},
   "outputs": [
    {
     "data": {
      "text/html": [
       "<div>\n",
       "<style scoped>\n",
       "    .dataframe tbody tr th:only-of-type {\n",
       "        vertical-align: middle;\n",
       "    }\n",
       "\n",
       "    .dataframe tbody tr th {\n",
       "        vertical-align: top;\n",
       "    }\n",
       "\n",
       "    .dataframe thead th {\n",
       "        text-align: right;\n",
       "    }\n",
       "</style>\n",
       "<table border=\"1\" class=\"dataframe\">\n",
       "  <thead>\n",
       "    <tr style=\"text-align: right;\">\n",
       "      <th></th>\n",
       "      <th>Id</th>\n",
       "      <th>SepalLengthCm</th>\n",
       "      <th>SepalWidthCm</th>\n",
       "      <th>PetalLengthCm</th>\n",
       "      <th>PetalWidthCm</th>\n",
       "      <th>Species</th>\n",
       "    </tr>\n",
       "  </thead>\n",
       "  <tbody>\n",
       "    <tr>\n",
       "      <th>0</th>\n",
       "      <td>1</td>\n",
       "      <td>5.1</td>\n",
       "      <td>3.5</td>\n",
       "      <td>1.4</td>\n",
       "      <td>0.2</td>\n",
       "      <td>Iris-setosa</td>\n",
       "    </tr>\n",
       "    <tr>\n",
       "      <th>1</th>\n",
       "      <td>2</td>\n",
       "      <td>4.9</td>\n",
       "      <td>3.0</td>\n",
       "      <td>1.4</td>\n",
       "      <td>0.2</td>\n",
       "      <td>Iris-setosa</td>\n",
       "    </tr>\n",
       "    <tr>\n",
       "      <th>2</th>\n",
       "      <td>3</td>\n",
       "      <td>4.7</td>\n",
       "      <td>3.2</td>\n",
       "      <td>1.3</td>\n",
       "      <td>0.2</td>\n",
       "      <td>Iris-setosa</td>\n",
       "    </tr>\n",
       "    <tr>\n",
       "      <th>3</th>\n",
       "      <td>4</td>\n",
       "      <td>4.6</td>\n",
       "      <td>3.1</td>\n",
       "      <td>1.5</td>\n",
       "      <td>0.2</td>\n",
       "      <td>Iris-setosa</td>\n",
       "    </tr>\n",
       "    <tr>\n",
       "      <th>4</th>\n",
       "      <td>5</td>\n",
       "      <td>5.0</td>\n",
       "      <td>3.6</td>\n",
       "      <td>1.4</td>\n",
       "      <td>0.2</td>\n",
       "      <td>Iris-setosa</td>\n",
       "    </tr>\n",
       "  </tbody>\n",
       "</table>\n",
       "</div>"
      ],
      "text/plain": [
       "   Id  SepalLengthCm  SepalWidthCm  PetalLengthCm  PetalWidthCm      Species\n",
       "0   1            5.1           3.5            1.4           0.2  Iris-setosa\n",
       "1   2            4.9           3.0            1.4           0.2  Iris-setosa\n",
       "2   3            4.7           3.2            1.3           0.2  Iris-setosa\n",
       "3   4            4.6           3.1            1.5           0.2  Iris-setosa\n",
       "4   5            5.0           3.6            1.4           0.2  Iris-setosa"
      ]
     },
     "execution_count": 48,
     "metadata": {},
     "output_type": "execute_result"
    }
   ],
   "source": [
    "df.head()"
   ]
  },
  {
   "cell_type": "code",
   "execution_count": 52,
   "metadata": {},
   "outputs": [
    {
     "data": {
      "image/png": "[encoded data removed]",
      "text/plain": [
       "<Figure size 432x288 with 1 Axes>"
      ]
     },
     "metadata": {
      "needs_background": "light"
     },
     "output_type": "display_data"
    }
   ],
   "source": [
    "plt.hist(df['SepalLengthCm'], bins = 10)\n",
    "plt.show()"
   ]
  },
  {
   "cell_type": "code",
   "execution_count": 53,
   "metadata": {},
   "outputs": [
    {
     "data": {
      "image/png": "[encoded data removed]",
      "text/plain": [
       "<Figure size 432x288 with 1 Axes>"
      ]
     },
     "metadata": {
      "needs_background": "light"
     },
     "output_type": "display_data"
    }
   ],
   "source": [
    "plt.hist(df['SepalWidthCm'], bins = 10)\n",
    "plt.show()"
   ]
  },
  {
   "cell_type": "code",
   "execution_count": 54,
   "metadata": {},
   "outputs": [
    {
     "data": {
      "image/png": "[encoded data removed]",
      "text/plain": [
       "<Figure size 432x288 with 1 Axes>"
      ]
     },
     "metadata": {
      "needs_background": "light"
     },
     "output_type": "display_data"
    }
   ],
   "source": [
    "plt.hist(df['PetalLengthCm'], bins = 10)\n",
    "plt.show()"
   ]
  },
  {
   "cell_type": "code",
   "execution_count": 55,
   "metadata": {},
   "outputs": [
    {
     "data": {
      "image/png": "[encoded data removed]",
      "text/plain": [
       "<Figure size 432x288 with 1 Axes>"
      ]
     },
     "metadata": {
      "needs_background": "light"
     },
     "output_type": "display_data"
    }
   ],
   "source": [
    "plt.hist(df['PetalWidthCm'], bins = 10)\n",
    "plt.show()"
   ]
  },
  {
   "cell_type": "code",
   "execution_count": null,
   "metadata": {},
   "outputs": [],
   "source": []
  },
  {
   "cell_type": "markdown",
   "metadata": {},
   "source": [
    "# ML - Logistic Regression"
   ]
  },
  {
   "cell_type": "code",
   "execution_count": 3,
   "metadata": {},
   "outputs": [],
   "source": [
    "from sklearn.linear_model import LogisticRegression\n",
    "from sklearn.model_selection import train_test_split"
   ]
  },
  {
   "cell_type": "code",
   "execution_count": 5,
   "metadata": {},
   "outputs": [],
   "source": [
    "x_train, x_test, y_train, y_test = train_test_split(df.drop(['Id', 'Species'], axis = 1),\n",
    "                                                    df['Species'],\n",
    "                                                    test_size = 0.20,\n",
    "                                                    random_state = 8)"
   ]
  },
  {
   "cell_type": "code",
   "execution_count": 6,
   "metadata": {},
   "outputs": [
    {
     "name": "stderr",
     "output_type": "stream",
     "text": [
      "C:\\Users\\lenovo\\Anaconda3\\lib\\site-packages\\sklearn\\linear_model\\logistic.py:433: FutureWarning: Default solver will be changed to 'lbfgs' in 0.22. Specify a solver to silence this warning.\n",
      "  FutureWarning)\n",
      "C:\\Users\\lenovo\\Anaconda3\\lib\\site-packages\\sklearn\\linear_model\\logistic.py:460: FutureWarning: Default multi_class will be changed to 'auto' in 0.22. Specify the multi_class option to silence this warning.\n",
      "  \"this warning.\", FutureWarning)\n"
     ]
    },
    {
     "data": {
      "text/plain": [
       "LogisticRegression(C=1.0, class_weight=None, dual=False, fit_intercept=True,\n",
       "          intercept_scaling=1, max_iter=100, multi_class='warn',\n",
       "          n_jobs=None, penalty='l2', random_state=None, solver='warn',\n",
       "          tol=0.0001, verbose=0, warm_start=False)"
      ]
     },
     "execution_count": 6,
     "metadata": {},
     "output_type": "execute_result"
    }
   ],
   "source": [
    "model = LogisticRegression()\n",
    "model.fit(x_train,y_train)"
   ]
  },
  {
   "cell_type": "code",
   "execution_count": 7,
   "metadata": {},
   "outputs": [
    {
     "data": {
      "text/plain": [
       "93.33333333333333"
      ]
     },
     "execution_count": 7,
     "metadata": {},
     "output_type": "execute_result"
    }
   ],
   "source": [
    "model.score(x_test,y_test)*100"
   ]
  },
  {
   "cell_type": "code",
   "execution_count": 8,
   "metadata": {},
   "outputs": [
    {
     "data": {
      "text/plain": [
       "array(['Iris-setosa', 'Iris-setosa', 'Iris-setosa', 'Iris-virginica',\n",
       "       'Iris-versicolor', 'Iris-setosa', 'Iris-setosa', 'Iris-virginica',\n",
       "       'Iris-virginica', 'Iris-versicolor', 'Iris-versicolor',\n",
       "       'Iris-setosa', 'Iris-virginica', 'Iris-versicolor',\n",
       "       'Iris-virginica', 'Iris-virginica', 'Iris-virginica',\n",
       "       'Iris-virginica', 'Iris-virginica', 'Iris-versicolor',\n",
       "       'Iris-versicolor', 'Iris-setosa', 'Iris-versicolor',\n",
       "       'Iris-versicolor', 'Iris-versicolor', 'Iris-setosa',\n",
       "       'Iris-virginica', 'Iris-setosa', 'Iris-setosa', 'Iris-virginica'],\n",
       "      dtype=object)"
      ]
     },
     "execution_count": 8,
     "metadata": {},
     "output_type": "execute_result"
    }
   ],
   "source": [
    "model.predict(x_test)"
   ]
  },
  {
   "cell_type": "code",
   "execution_count": 12,
   "metadata": {},
   "outputs": [
    {
     "data": {
      "text/html": [
       "<div>\n",
       "<style scoped>\n",
       "    .dataframe tbody tr th:only-of-type {\n",
       "        vertical-align: middle;\n",
       "    }\n",
       "\n",
       "    .dataframe tbody tr th {\n",
       "        vertical-align: top;\n",
       "    }\n",
       "\n",
       "    .dataframe thead th {\n",
       "        text-align: right;\n",
       "    }\n",
       "</style>\n",
       "<table border=\"1\" class=\"dataframe\">\n",
       "  <thead>\n",
       "    <tr style=\"text-align: right;\">\n",
       "      <th></th>\n",
       "      <th>Id</th>\n",
       "      <th>SepalLengthCm</th>\n",
       "      <th>SepalWidthCm</th>\n",
       "      <th>PetalLengthCm</th>\n",
       "      <th>PetalWidthCm</th>\n",
       "      <th>Species</th>\n",
       "    </tr>\n",
       "  </thead>\n",
       "  <tbody>\n",
       "    <tr>\n",
       "      <th>0</th>\n",
       "      <td>1</td>\n",
       "      <td>5.1</td>\n",
       "      <td>3.5</td>\n",
       "      <td>1.4</td>\n",
       "      <td>0.2</td>\n",
       "      <td>Iris-setosa</td>\n",
       "    </tr>\n",
       "    <tr>\n",
       "      <th>1</th>\n",
       "      <td>2</td>\n",
       "      <td>4.9</td>\n",
       "      <td>3.0</td>\n",
       "      <td>1.4</td>\n",
       "      <td>0.2</td>\n",
       "      <td>Iris-setosa</td>\n",
       "    </tr>\n",
       "  </tbody>\n",
       "</table>\n",
       "</div>"
      ],
      "text/plain": [
       "   Id  SepalLengthCm  SepalWidthCm  PetalLengthCm  PetalWidthCm      Species\n",
       "0   1            5.1           3.5            1.4           0.2  Iris-setosa\n",
       "1   2            4.9           3.0            1.4           0.2  Iris-setosa"
      ]
     },
     "execution_count": 12,
     "metadata": {},
     "output_type": "execute_result"
    }
   ],
   "source": [
    "df.head(2)"
   ]
  },
  {
   "cell_type": "code",
   "execution_count": 13,
   "metadata": {},
   "outputs": [
    {
     "data": {
      "text/html": [
       "<div>\n",
       "<style scoped>\n",
       "    .dataframe tbody tr th:only-of-type {\n",
       "        vertical-align: middle;\n",
       "    }\n",
       "\n",
       "    .dataframe tbody tr th {\n",
       "        vertical-align: top;\n",
       "    }\n",
       "\n",
       "    .dataframe thead th {\n",
       "        text-align: right;\n",
       "    }\n",
       "</style>\n",
       "<table border=\"1\" class=\"dataframe\">\n",
       "  <thead>\n",
       "    <tr style=\"text-align: right;\">\n",
       "      <th></th>\n",
       "      <th>Id</th>\n",
       "      <th>SepalLengthCm</th>\n",
       "      <th>SepalWidthCm</th>\n",
       "      <th>PetalLengthCm</th>\n",
       "      <th>PetalWidthCm</th>\n",
       "      <th>Species</th>\n",
       "    </tr>\n",
       "  </thead>\n",
       "  <tbody>\n",
       "    <tr>\n",
       "      <th>74</th>\n",
       "      <td>75</td>\n",
       "      <td>6.4</td>\n",
       "      <td>2.9</td>\n",
       "      <td>4.3</td>\n",
       "      <td>1.3</td>\n",
       "      <td>Iris-versicolor</td>\n",
       "    </tr>\n",
       "    <tr>\n",
       "      <th>75</th>\n",
       "      <td>76</td>\n",
       "      <td>6.6</td>\n",
       "      <td>3.0</td>\n",
       "      <td>4.4</td>\n",
       "      <td>1.4</td>\n",
       "      <td>Iris-versicolor</td>\n",
       "    </tr>\n",
       "  </tbody>\n",
       "</table>\n",
       "</div>"
      ],
      "text/plain": [
       "    Id  SepalLengthCm  SepalWidthCm  PetalLengthCm  PetalWidthCm  \\\n",
       "74  75            6.4           2.9            4.3           1.3   \n",
       "75  76            6.6           3.0            4.4           1.4   \n",
       "\n",
       "            Species  \n",
       "74  Iris-versicolor  \n",
       "75  Iris-versicolor  "
      ]
     },
     "execution_count": 13,
     "metadata": {},
     "output_type": "execute_result"
    }
   ],
   "source": [
    "df[74:76]"
   ]
  },
  {
   "cell_type": "code",
   "execution_count": 14,
   "metadata": {},
   "outputs": [
    {
     "data": {
      "text/html": [
       "<div>\n",
       "<style scoped>\n",
       "    .dataframe tbody tr th:only-of-type {\n",
       "        vertical-align: middle;\n",
       "    }\n",
       "\n",
       "    .dataframe tbody tr th {\n",
       "        vertical-align: top;\n",
       "    }\n",
       "\n",
       "    .dataframe thead th {\n",
       "        text-align: right;\n",
       "    }\n",
       "</style>\n",
       "<table border=\"1\" class=\"dataframe\">\n",
       "  <thead>\n",
       "    <tr style=\"text-align: right;\">\n",
       "      <th></th>\n",
       "      <th>Id</th>\n",
       "      <th>SepalLengthCm</th>\n",
       "      <th>SepalWidthCm</th>\n",
       "      <th>PetalLengthCm</th>\n",
       "      <th>PetalWidthCm</th>\n",
       "      <th>Species</th>\n",
       "    </tr>\n",
       "  </thead>\n",
       "  <tbody>\n",
       "    <tr>\n",
       "      <th>148</th>\n",
       "      <td>149</td>\n",
       "      <td>6.2</td>\n",
       "      <td>3.4</td>\n",
       "      <td>5.4</td>\n",
       "      <td>2.3</td>\n",
       "      <td>Iris-virginica</td>\n",
       "    </tr>\n",
       "    <tr>\n",
       "      <th>149</th>\n",
       "      <td>150</td>\n",
       "      <td>5.9</td>\n",
       "      <td>3.0</td>\n",
       "      <td>5.1</td>\n",
       "      <td>1.8</td>\n",
       "      <td>Iris-virginica</td>\n",
       "    </tr>\n",
       "  </tbody>\n",
       "</table>\n",
       "</div>"
      ],
      "text/plain": [
       "      Id  SepalLengthCm  SepalWidthCm  PetalLengthCm  PetalWidthCm  \\\n",
       "148  149            6.2           3.4            5.4           2.3   \n",
       "149  150            5.9           3.0            5.1           1.8   \n",
       "\n",
       "            Species  \n",
       "148  Iris-virginica  \n",
       "149  Iris-virginica  "
      ]
     },
     "execution_count": 14,
     "metadata": {},
     "output_type": "execute_result"
    }
   ],
   "source": [
    "df.tail(2)"
   ]
  },
  {
   "cell_type": "code",
   "execution_count": 15,
   "metadata": {},
   "outputs": [],
   "source": [
    "t1 = np.array([[5.1, 3.5, 1.4, 0.2]])\n",
    "t2 = np.array([[6.6, 3.0, 4.4, 1.4]])\n",
    "t3 = np.array([[6.2, 3.4, 5.4, 2.3]])"
   ]
  },
  {
   "cell_type": "code",
   "execution_count": 16,
   "metadata": {},
   "outputs": [
    {
     "name": "stdout",
     "output_type": "stream",
     "text": [
      "['Iris-setosa']\n",
      "['Iris-versicolor']\n",
      "['Iris-virginica']\n"
     ]
    }
   ],
   "source": [
    "print(model.predict(t1))\n",
    "print(model.predict(t2))\n",
    "print(model.predict(t3))"
   ]
  },
  {
   "cell_type": "code",
   "execution_count": 17,
   "metadata": {},
   "outputs": [
    {
     "name": "stdout",
     "output_type": "stream",
     "text": [
      "['Iris-virginica']\n"
     ]
    }
   ],
   "source": [
    "t4 = np.array([[6.2, 3.4, 5.4, 2.3]])\n",
    "print(model.predict(t4))"
   ]
  },
  {
   "cell_type": "markdown",
   "metadata": {},
   "source": [
    "# ML - KNN"
   ]
  },
  {
   "cell_type": "code",
   "execution_count": 29,
   "metadata": {},
   "outputs": [],
   "source": [
    "from sklearn.neighbors import KNeighborsClassifier\n",
    "from sklearn.preprocessing import StandardScaler"
   ]
  },
  {
   "cell_type": "code",
   "execution_count": 10,
   "metadata": {},
   "outputs": [],
   "source": [
    "features = df.drop(['Id', 'Species'], axis = 1)\n",
    "target = df['Species']"
   ]
  },
  {
   "cell_type": "code",
   "execution_count": 11,
   "metadata": {},
   "outputs": [
    {
     "data": {
      "text/plain": [
       "StandardScaler(copy=True, with_mean=True, with_std=True)"
      ]
     },
     "execution_count": 11,
     "metadata": {},
     "output_type": "execute_result"
    }
   ],
   "source": [
    "scale = StandardScaler()\n",
    "scale.fit(features)"
   ]
  },
  {
   "cell_type": "code",
   "execution_count": 12,
   "metadata": {},
   "outputs": [],
   "source": [
    "scaled_features = scale.transform(features)"
   ]
  },
  {
   "cell_type": "code",
   "execution_count": 75,
   "metadata": {},
   "outputs": [
    {
     "data": {
      "text/html": [
       "<div>\n",
       "<style scoped>\n",
       "    .dataframe tbody tr th:only-of-type {\n",
       "        vertical-align: middle;\n",
       "    }\n",
       "\n",
       "    .dataframe tbody tr th {\n",
       "        vertical-align: top;\n",
       "    }\n",
       "\n",
       "    .dataframe thead th {\n",
       "        text-align: right;\n",
       "    }\n",
       "</style>\n",
       "<table border=\"1\" class=\"dataframe\">\n",
       "  <thead>\n",
       "    <tr style=\"text-align: right;\">\n",
       "      <th></th>\n",
       "      <th>0</th>\n",
       "      <th>1</th>\n",
       "      <th>2</th>\n",
       "      <th>3</th>\n",
       "    </tr>\n",
       "  </thead>\n",
       "  <tbody>\n",
       "    <tr>\n",
       "      <th>0</th>\n",
       "      <td>-0.900681</td>\n",
       "      <td>1.032057</td>\n",
       "      <td>-1.341272</td>\n",
       "      <td>-1.312977</td>\n",
       "    </tr>\n",
       "    <tr>\n",
       "      <th>1</th>\n",
       "      <td>-1.143017</td>\n",
       "      <td>-0.124958</td>\n",
       "      <td>-1.341272</td>\n",
       "      <td>-1.312977</td>\n",
       "    </tr>\n",
       "    <tr>\n",
       "      <th>2</th>\n",
       "      <td>-1.385353</td>\n",
       "      <td>0.337848</td>\n",
       "      <td>-1.398138</td>\n",
       "      <td>-1.312977</td>\n",
       "    </tr>\n",
       "    <tr>\n",
       "      <th>3</th>\n",
       "      <td>-1.506521</td>\n",
       "      <td>0.106445</td>\n",
       "      <td>-1.284407</td>\n",
       "      <td>-1.312977</td>\n",
       "    </tr>\n",
       "    <tr>\n",
       "      <th>4</th>\n",
       "      <td>-1.021849</td>\n",
       "      <td>1.263460</td>\n",
       "      <td>-1.341272</td>\n",
       "      <td>-1.312977</td>\n",
       "    </tr>\n",
       "  </tbody>\n",
       "</table>\n",
       "</div>"
      ],
      "text/plain": [
       "          0         1         2         3\n",
       "0 -0.900681  1.032057 -1.341272 -1.312977\n",
       "1 -1.143017 -0.124958 -1.341272 -1.312977\n",
       "2 -1.385353  0.337848 -1.398138 -1.312977\n",
       "3 -1.506521  0.106445 -1.284407 -1.312977\n",
       "4 -1.021849  1.263460 -1.341272 -1.312977"
      ]
     },
     "execution_count": 75,
     "metadata": {},
     "output_type": "execute_result"
    }
   ],
   "source": [
    "df2 = pd.DataFrame(scaled_features)\n",
    "df2.head()"
   ]
  },
  {
   "cell_type": "code",
   "execution_count": 13,
   "metadata": {},
   "outputs": [],
   "source": [
    "x_train, x_test, y_train, y_test = train_test_split(features,\n",
    "                                                    target,\n",
    "                                                    test_size = 0.25,\n",
    "                                                    random_state = 45)\n",
    "\n"
   ]
  },
  {
   "cell_type": "code",
   "execution_count": 14,
   "metadata": {},
   "outputs": [
    {
     "data": {
      "text/plain": [
       "KNeighborsClassifier(algorithm='auto', leaf_size=30, metric='minkowski',\n",
       "           metric_params=None, n_jobs=None, n_neighbors=3, p=2,\n",
       "           weights='uniform')"
      ]
     },
     "execution_count": 14,
     "metadata": {},
     "output_type": "execute_result"
    }
   ],
   "source": [
    "model = KNeighborsClassifier(n_neighbors=3)\n",
    "model.fit(x_train,y_train)"
   ]
  },
  {
   "cell_type": "code",
   "execution_count": 15,
   "metadata": {},
   "outputs": [
    {
     "data": {
      "text/plain": [
       "94.73684210526315"
      ]
     },
     "execution_count": 15,
     "metadata": {},
     "output_type": "execute_result"
    }
   ],
   "source": [
    "model.score(x_test,y_test)*100"
   ]
  },
  {
   "cell_type": "code",
   "execution_count": 84,
   "metadata": {},
   "outputs": [
    {
     "data": {
      "text/plain": [
       "array(['Iris-setosa', 'Iris-setosa', 'Iris-virginica', 'Iris-setosa',\n",
       "       'Iris-setosa', 'Iris-setosa', 'Iris-setosa', 'Iris-virginica',\n",
       "       'Iris-virginica', 'Iris-virginica', 'Iris-setosa',\n",
       "       'Iris-virginica', 'Iris-virginica', 'Iris-virginica',\n",
       "       'Iris-versicolor', 'Iris-setosa', 'Iris-virginica',\n",
       "       'Iris-virginica', 'Iris-setosa', 'Iris-versicolor',\n",
       "       'Iris-versicolor', 'Iris-versicolor', 'Iris-virginica',\n",
       "       'Iris-versicolor', 'Iris-setosa', 'Iris-virginica',\n",
       "       'Iris-versicolor', 'Iris-versicolor', 'Iris-setosa',\n",
       "       'Iris-versicolor', 'Iris-versicolor', 'Iris-versicolor',\n",
       "       'Iris-versicolor', 'Iris-virginica', 'Iris-setosa',\n",
       "       'Iris-virginica', 'Iris-setosa', 'Iris-setosa'], dtype=object)"
      ]
     },
     "execution_count": 84,
     "metadata": {},
     "output_type": "execute_result"
    }
   ],
   "source": [
    "pred = model.predict(x_test)\n",
    "pred"
   ]
  },
  {
   "cell_type": "code",
   "execution_count": 83,
   "metadata": {},
   "outputs": [
    {
     "data": {
      "text/plain": [
       "array([['Iris-setosa'],\n",
       "       ['Iris-setosa'],\n",
       "       ['Iris-virginica'],\n",
       "       ['Iris-setosa'],\n",
       "       ['Iris-setosa'],\n",
       "       ['Iris-setosa'],\n",
       "       ['Iris-setosa'],\n",
       "       ['Iris-virginica'],\n",
       "       ['Iris-virginica'],\n",
       "       ['Iris-virginica'],\n",
       "       ['Iris-setosa'],\n",
       "       ['Iris-virginica'],\n",
       "       ['Iris-virginica'],\n",
       "       ['Iris-virginica'],\n",
       "       ['Iris-versicolor'],\n",
       "       ['Iris-setosa'],\n",
       "       ['Iris-virginica'],\n",
       "       ['Iris-virginica'],\n",
       "       ['Iris-setosa'],\n",
       "       ['Iris-versicolor'],\n",
       "       ['Iris-versicolor'],\n",
       "       ['Iris-versicolor'],\n",
       "       ['Iris-virginica'],\n",
       "       ['Iris-versicolor'],\n",
       "       ['Iris-setosa'],\n",
       "       ['Iris-virginica'],\n",
       "       ['Iris-versicolor'],\n",
       "       ['Iris-versicolor'],\n",
       "       ['Iris-setosa'],\n",
       "       ['Iris-versicolor'],\n",
       "       ['Iris-versicolor'],\n",
       "       ['Iris-versicolor'],\n",
       "       ['Iris-versicolor'],\n",
       "       ['Iris-virginica'],\n",
       "       ['Iris-setosa'],\n",
       "       ['Iris-virginica'],\n",
       "       ['Iris-setosa'],\n",
       "       ['Iris-setosa']], dtype=object)"
      ]
     },
     "execution_count": 83,
     "metadata": {},
     "output_type": "execute_result"
    }
   ],
   "source": [
    "model.predict(x_test).reshape(38,1)"
   ]
  },
  {
   "cell_type": "code",
   "execution_count": 86,
   "metadata": {},
   "outputs": [
    {
     "name": "stdout",
     "output_type": "stream",
     "text": [
      "                 precision    recall  f1-score   support\n",
      "\n",
      "    Iris-setosa       1.00      1.00      1.00        14\n",
      "Iris-versicolor       0.82      1.00      0.90         9\n",
      " Iris-virginica       1.00      0.87      0.93        15\n",
      "\n",
      "       accuracy                           0.95        38\n",
      "      macro avg       0.94      0.96      0.94        38\n",
      "   weighted avg       0.96      0.95      0.95        38\n",
      "\n"
     ]
    }
   ],
   "source": [
    "from sklearn.metrics import classification_report\n",
    "print(classification_report(y_test, pred))"
   ]
  },
  {
   "cell_type": "code",
   "execution_count": 87,
   "metadata": {},
   "outputs": [
    {
     "data": {
      "text/plain": [
       "array([[14,  0,  0],\n",
       "       [ 0,  9,  0],\n",
       "       [ 0,  2, 13]], dtype=int64)"
      ]
     },
     "execution_count": 87,
     "metadata": {},
     "output_type": "execute_result"
    }
   ],
   "source": [
    "from sklearn.metrics import confusion_matrix\n",
    "confusion_matrix(y_test, pred)"
   ]
  },
  {
   "cell_type": "code",
   "execution_count": null,
   "metadata": {},
   "outputs": [],
   "source": []
  },
  {
   "cell_type": "markdown",
   "metadata": {},
   "source": [
    "# Support vector machine"
   ]
  },
  {
   "cell_type": "code",
   "execution_count": 3,
   "metadata": {},
   "outputs": [],
   "source": [
    "from sklearn.preprocessing import StandardScaler\n",
    "from sklearn.model_selection import train_test_split\n",
    "from sklearn.metrics import accuracy_score\n",
    "from sklearn.svm import SVC \n",
    "from sklearn.metrics import confusion_matrix,classification_report"
   ]
  },
  {
   "cell_type": "code",
   "execution_count": 4,
   "metadata": {},
   "outputs": [],
   "source": [
    "scaler=StandardScaler()\n",
    "x=df.drop(['Id', 'Species'],axis=1)\n",
    "y=df['Species']\n",
    "\n",
    "\n",
    "scaler.fit(x)\n",
    "x_transformed=scaler.transform(x)\n",
    "\n",
    "x_train,x_test,y_train,y_test=train_test_split(x_transformed,y,test_size=0.3)"
   ]
  },
  {
   "cell_type": "code",
   "execution_count": 9,
   "metadata": {},
   "outputs": [
    {
     "name": "stdout",
     "output_type": "stream",
     "text": [
      "Train set Accuracy98.09523809523809\n",
      "Train set Accuracy93.33333333333333\n"
     ]
    },
    {
     "name": "stderr",
     "output_type": "stream",
     "text": [
      "C:\\Users\\lenovo\\Anaconda3\\lib\\site-packages\\sklearn\\svm\\base.py:196: FutureWarning: The default value of gamma will change from 'auto' to 'scale' in version 0.22 to account better for unscaled features. Set gamma explicitly to 'auto' or 'scale' to avoid this warning.\n",
      "  \"avoid this warning.\", FutureWarning)\n"
     ]
    }
   ],
   "source": [
    "#SVM\n",
    "model=SVC()\n",
    "model.fit(x_train,y_train)\n",
    "y_train_pred=model.predict(x_train)\n",
    "y_test_pred=model.predict(x_test)\n",
    "\n",
    "print(\"Train set Accuracy\"+str(accuracy_score(y_train_pred,y_train)*100))\n",
    "print(\"Train set Accuracy\"+str(accuracy_score(y_test_pred,y_test)*100))"
   ]
  },
  {
   "cell_type": "code",
   "execution_count": 6,
   "metadata": {},
   "outputs": [
    {
     "data": {
      "text/plain": [
       "array([[15,  0,  0],\n",
       "       [ 0, 14,  2],\n",
       "       [ 0,  1, 13]], dtype=int64)"
      ]
     },
     "execution_count": 6,
     "metadata": {},
     "output_type": "execute_result"
    }
   ],
   "source": [
    "from sklearn.metrics import confusion_matrix\n",
    "confusion_matrix(y_test_pred,y_test)"
   ]
  },
  {
   "cell_type": "code",
   "execution_count": 8,
   "metadata": {},
   "outputs": [
    {
     "name": "stdout",
     "output_type": "stream",
     "text": [
      "                 precision    recall  f1-score   support\n",
      "\n",
      "    Iris-setosa       1.00      1.00      1.00        15\n",
      "Iris-versicolor       0.93      0.88      0.90        16\n",
      " Iris-virginica       0.87      0.93      0.90        14\n",
      "\n",
      "      micro avg       0.93      0.93      0.93        45\n",
      "      macro avg       0.93      0.93      0.93        45\n",
      "   weighted avg       0.93      0.93      0.93        45\n",
      "\n"
     ]
    }
   ],
   "source": [
    "from sklearn.metrics import classification_report\n",
    "print(classification_report(y_test_pred,y_test))"
   ]
  },
  {
   "cell_type": "code",
   "execution_count": null,
   "metadata": {},
   "outputs": [],
   "source": []
  },
  {
   "cell_type": "code",
   "execution_count": null,
   "metadata": {},
   "outputs": [],
   "source": []
  },
  {
   "cell_type": "markdown",
   "metadata": {},
   "source": [
    "# 28 April 2021"
   ]
  },
  {
   "cell_type": "code",
   "execution_count": 2,
   "metadata": {},
   "outputs": [
    {
     "data": {
      "text/html": [
       "<div>\n",
       "<style scoped>\n",
       "    .dataframe tbody tr th:only-of-type {\n",
       "        vertical-align: middle;\n",
       "    }\n",
       "\n",
       "    .dataframe tbody tr th {\n",
       "        vertical-align: top;\n",
       "    }\n",
       "\n",
       "    .dataframe thead th {\n",
       "        text-align: right;\n",
       "    }\n",
       "</style>\n",
       "<table border=\"1\" class=\"dataframe\">\n",
       "  <thead>\n",
       "    <tr style=\"text-align: right;\">\n",
       "      <th></th>\n",
       "      <th>rowID</th>\n",
       "      <th>hpwren_timestamp</th>\n",
       "      <th>air_pressure</th>\n",
       "      <th>air_temp</th>\n",
       "      <th>avg_wind_direction</th>\n",
       "      <th>avg_wind_speed</th>\n",
       "      <th>max_wind_direction</th>\n",
       "      <th>max_wind_speed</th>\n",
       "      <th>min_wind_direction</th>\n",
       "      <th>min_wind_speed</th>\n",
       "      <th>rain_accumulation</th>\n",
       "      <th>rain_duration</th>\n",
       "      <th>relative_humidity</th>\n",
       "    </tr>\n",
       "  </thead>\n",
       "  <tbody>\n",
       "    <tr>\n",
       "      <th>0</th>\n",
       "      <td>0</td>\n",
       "      <td>2011-09-10 00:00:49</td>\n",
       "      <td>912.3</td>\n",
       "      <td>64.76</td>\n",
       "      <td>97.0</td>\n",
       "      <td>1.2</td>\n",
       "      <td>106.0</td>\n",
       "      <td>1.6</td>\n",
       "      <td>85.0</td>\n",
       "      <td>1.0</td>\n",
       "      <td>NaN</td>\n",
       "      <td>NaN</td>\n",
       "      <td>60.5</td>\n",
       "    </tr>\n",
       "    <tr>\n",
       "      <th>1</th>\n",
       "      <td>1</td>\n",
       "      <td>2011-09-10 00:01:49</td>\n",
       "      <td>912.3</td>\n",
       "      <td>63.86</td>\n",
       "      <td>161.0</td>\n",
       "      <td>0.8</td>\n",
       "      <td>215.0</td>\n",
       "      <td>1.5</td>\n",
       "      <td>43.0</td>\n",
       "      <td>0.2</td>\n",
       "      <td>0.0</td>\n",
       "      <td>0.0</td>\n",
       "      <td>39.9</td>\n",
       "    </tr>\n",
       "    <tr>\n",
       "      <th>2</th>\n",
       "      <td>2</td>\n",
       "      <td>2011-09-10 00:02:49</td>\n",
       "      <td>912.3</td>\n",
       "      <td>64.22</td>\n",
       "      <td>77.0</td>\n",
       "      <td>0.7</td>\n",
       "      <td>143.0</td>\n",
       "      <td>1.2</td>\n",
       "      <td>324.0</td>\n",
       "      <td>0.3</td>\n",
       "      <td>0.0</td>\n",
       "      <td>0.0</td>\n",
       "      <td>43.0</td>\n",
       "    </tr>\n",
       "    <tr>\n",
       "      <th>3</th>\n",
       "      <td>3</td>\n",
       "      <td>2011-09-10 00:03:49</td>\n",
       "      <td>912.3</td>\n",
       "      <td>64.40</td>\n",
       "      <td>89.0</td>\n",
       "      <td>1.2</td>\n",
       "      <td>112.0</td>\n",
       "      <td>1.6</td>\n",
       "      <td>12.0</td>\n",
       "      <td>0.7</td>\n",
       "      <td>0.0</td>\n",
       "      <td>0.0</td>\n",
       "      <td>49.5</td>\n",
       "    </tr>\n",
       "    <tr>\n",
       "      <th>4</th>\n",
       "      <td>4</td>\n",
       "      <td>2011-09-10 00:04:49</td>\n",
       "      <td>912.3</td>\n",
       "      <td>64.40</td>\n",
       "      <td>185.0</td>\n",
       "      <td>0.4</td>\n",
       "      <td>260.0</td>\n",
       "      <td>1.0</td>\n",
       "      <td>100.0</td>\n",
       "      <td>0.1</td>\n",
       "      <td>0.0</td>\n",
       "      <td>0.0</td>\n",
       "      <td>58.8</td>\n",
       "    </tr>\n",
       "  </tbody>\n",
       "</table>\n",
       "</div>"
      ],
      "text/plain": [
       "   rowID     hpwren_timestamp  air_pressure  air_temp  avg_wind_direction  \\\n",
       "0      0  2011-09-10 00:00:49         912.3     64.76                97.0   \n",
       "1      1  2011-09-10 00:01:49         912.3     63.86               161.0   \n",
       "2      2  2011-09-10 00:02:49         912.3     64.22                77.0   \n",
       "3      3  2011-09-10 00:03:49         912.3     64.40                89.0   \n",
       "4      4  2011-09-10 00:04:49         912.3     64.40               185.0   \n",
       "\n",
       "   avg_wind_speed  max_wind_direction  max_wind_speed  min_wind_direction  \\\n",
       "0             1.2               106.0             1.6                85.0   \n",
       "1             0.8               215.0             1.5                43.0   \n",
       "2             0.7               143.0             1.2               324.0   \n",
       "3             1.2               112.0             1.6                12.0   \n",
       "4             0.4               260.0             1.0               100.0   \n",
       "\n",
       "   min_wind_speed  rain_accumulation  rain_duration  relative_humidity  \n",
       "0             1.0                NaN            NaN               60.5  \n",
       "1             0.2                0.0            0.0               39.9  \n",
       "2             0.3                0.0            0.0               43.0  \n",
       "3             0.7                0.0            0.0               49.5  \n",
       "4             0.1                0.0            0.0               58.8  "
      ]
     },
     "execution_count": 2,
     "metadata": {},
     "output_type": "execute_result"
    }
   ],
   "source": [
    "df = pd.read_csv('C:/Users/lenovo/Desktop/datasets/minute_weather.csv')\n",
    "df.head()"
   ]
  },
  {
   "cell_type": "code",
   "execution_count": 3,
   "metadata": {},
   "outputs": [
    {
     "data": {
      "text/plain": [
       "Index(['rowID', 'hpwren_timestamp', 'air_pressure', 'air_temp',\n",
       "       'avg_wind_direction', 'avg_wind_speed', 'max_wind_direction',\n",
       "       'max_wind_speed', 'min_wind_direction', 'min_wind_speed',\n",
       "       'rain_accumulation', 'rain_duration', 'relative_humidity'],\n",
       "      dtype='object')"
      ]
     },
     "execution_count": 3,
     "metadata": {},
     "output_type": "execute_result"
    }
   ],
   "source": [
    "df.columns"
   ]
  },
  {
   "cell_type": "code",
   "execution_count": 4,
   "metadata": {},
   "outputs": [
    {
     "data": {
      "text/plain": [
       "(1587257, 13)"
      ]
     },
     "execution_count": 4,
     "metadata": {},
     "output_type": "execute_result"
    }
   ],
   "source": [
    "df.shape"
   ]
  },
  {
   "cell_type": "code",
   "execution_count": 5,
   "metadata": {},
   "outputs": [
    {
     "data": {
      "text/plain": [
       "rowID                 False\n",
       "hpwren_timestamp      False\n",
       "air_pressure          False\n",
       "air_temp              False\n",
       "avg_wind_direction     True\n",
       "avg_wind_speed         True\n",
       "max_wind_direction     True\n",
       "max_wind_speed         True\n",
       "min_wind_direction     True\n",
       "min_wind_speed         True\n",
       "rain_accumulation      True\n",
       "rain_duration          True\n",
       "relative_humidity     False\n",
       "dtype: bool"
      ]
     },
     "execution_count": 5,
     "metadata": {},
     "output_type": "execute_result"
    }
   ],
   "source": [
    "df.isnull().any()"
   ]
  },
  {
   "cell_type": "code",
   "execution_count": 6,
   "metadata": {},
   "outputs": [
    {
     "data": {
      "text/plain": [
       "rowID                   0\n",
       "hpwren_timestamp        0\n",
       "air_pressure            0\n",
       "air_temp                0\n",
       "avg_wind_direction    433\n",
       "avg_wind_speed        433\n",
       "max_wind_direction    433\n",
       "max_wind_speed        433\n",
       "min_wind_direction    433\n",
       "min_wind_speed        433\n",
       "rain_accumulation       1\n",
       "rain_duration           1\n",
       "relative_humidity       0\n",
       "dtype: int64"
      ]
     },
     "execution_count": 6,
     "metadata": {},
     "output_type": "execute_result"
    }
   ],
   "source": [
    "df.isnull().sum()"
   ]
  },
  {
   "cell_type": "code",
   "execution_count": 7,
   "metadata": {},
   "outputs": [
    {
     "data": {
      "text/html": [
       "<div>\n",
       "<style scoped>\n",
       "    .dataframe tbody tr th:only-of-type {\n",
       "        vertical-align: middle;\n",
       "    }\n",
       "\n",
       "    .dataframe tbody tr th {\n",
       "        vertical-align: top;\n",
       "    }\n",
       "\n",
       "    .dataframe thead th {\n",
       "        text-align: right;\n",
       "    }\n",
       "</style>\n",
       "<table border=\"1\" class=\"dataframe\">\n",
       "  <thead>\n",
       "    <tr style=\"text-align: right;\">\n",
       "      <th></th>\n",
       "      <th>rowID</th>\n",
       "      <th>air_pressure</th>\n",
       "      <th>air_temp</th>\n",
       "      <th>avg_wind_direction</th>\n",
       "      <th>avg_wind_speed</th>\n",
       "      <th>max_wind_direction</th>\n",
       "      <th>max_wind_speed</th>\n",
       "      <th>min_wind_direction</th>\n",
       "      <th>min_wind_speed</th>\n",
       "      <th>rain_accumulation</th>\n",
       "      <th>rain_duration</th>\n",
       "      <th>relative_humidity</th>\n",
       "    </tr>\n",
       "  </thead>\n",
       "  <tbody>\n",
       "    <tr>\n",
       "      <th>count</th>\n",
       "      <td>1.587257e+06</td>\n",
       "      <td>1.587257e+06</td>\n",
       "      <td>1.587257e+06</td>\n",
       "      <td>1.586824e+06</td>\n",
       "      <td>1.586824e+06</td>\n",
       "      <td>1.586824e+06</td>\n",
       "      <td>1.586824e+06</td>\n",
       "      <td>1.586824e+06</td>\n",
       "      <td>1.586824e+06</td>\n",
       "      <td>1.587256e+06</td>\n",
       "      <td>1.587256e+06</td>\n",
       "      <td>1.587257e+06</td>\n",
       "    </tr>\n",
       "    <tr>\n",
       "      <th>mean</th>\n",
       "      <td>7.936280e+05</td>\n",
       "      <td>9.168301e+02</td>\n",
       "      <td>6.185144e+01</td>\n",
       "      <td>1.619654e+02</td>\n",
       "      <td>2.774272e+00</td>\n",
       "      <td>1.634030e+02</td>\n",
       "      <td>3.399813e+00</td>\n",
       "      <td>1.668264e+02</td>\n",
       "      <td>2.133130e+00</td>\n",
       "      <td>1.854836e-03</td>\n",
       "      <td>5.361460e-01</td>\n",
       "      <td>4.760837e+01</td>\n",
       "    </tr>\n",
       "    <tr>\n",
       "      <th>std</th>\n",
       "      <td>4.582018e+05</td>\n",
       "      <td>3.051593e+00</td>\n",
       "      <td>1.183362e+01</td>\n",
       "      <td>9.520812e+01</td>\n",
       "      <td>2.060758e+00</td>\n",
       "      <td>9.236723e+01</td>\n",
       "      <td>2.423167e+00</td>\n",
       "      <td>9.746275e+01</td>\n",
       "      <td>1.745345e+00</td>\n",
       "      <td>9.609716e-01</td>\n",
       "      <td>8.114766e+01</td>\n",
       "      <td>2.621454e+01</td>\n",
       "    </tr>\n",
       "    <tr>\n",
       "      <th>min</th>\n",
       "      <td>0.000000e+00</td>\n",
       "      <td>9.050000e+02</td>\n",
       "      <td>3.164000e+01</td>\n",
       "      <td>0.000000e+00</td>\n",
       "      <td>0.000000e+00</td>\n",
       "      <td>0.000000e+00</td>\n",
       "      <td>1.000000e-01</td>\n",
       "      <td>0.000000e+00</td>\n",
       "      <td>0.000000e+00</td>\n",
       "      <td>0.000000e+00</td>\n",
       "      <td>0.000000e+00</td>\n",
       "      <td>7.000000e-01</td>\n",
       "    </tr>\n",
       "    <tr>\n",
       "      <th>25%</th>\n",
       "      <td>3.968140e+05</td>\n",
       "      <td>9.148000e+02</td>\n",
       "      <td>5.270000e+01</td>\n",
       "      <td>6.200000e+01</td>\n",
       "      <td>1.300000e+00</td>\n",
       "      <td>6.800000e+01</td>\n",
       "      <td>1.600000e+00</td>\n",
       "      <td>7.700000e+01</td>\n",
       "      <td>8.000000e-01</td>\n",
       "      <td>0.000000e+00</td>\n",
       "      <td>0.000000e+00</td>\n",
       "      <td>2.470000e+01</td>\n",
       "    </tr>\n",
       "    <tr>\n",
       "      <th>50%</th>\n",
       "      <td>7.936280e+05</td>\n",
       "      <td>9.167000e+02</td>\n",
       "      <td>6.224000e+01</td>\n",
       "      <td>1.820000e+02</td>\n",
       "      <td>2.200000e+00</td>\n",
       "      <td>1.870000e+02</td>\n",
       "      <td>2.700000e+00</td>\n",
       "      <td>1.800000e+02</td>\n",
       "      <td>1.600000e+00</td>\n",
       "      <td>0.000000e+00</td>\n",
       "      <td>0.000000e+00</td>\n",
       "      <td>4.470000e+01</td>\n",
       "    </tr>\n",
       "    <tr>\n",
       "      <th>75%</th>\n",
       "      <td>1.190442e+06</td>\n",
       "      <td>9.187000e+02</td>\n",
       "      <td>7.088000e+01</td>\n",
       "      <td>2.170000e+02</td>\n",
       "      <td>3.800000e+00</td>\n",
       "      <td>2.230000e+02</td>\n",
       "      <td>4.600000e+00</td>\n",
       "      <td>2.120000e+02</td>\n",
       "      <td>3.000000e+00</td>\n",
       "      <td>0.000000e+00</td>\n",
       "      <td>0.000000e+00</td>\n",
       "      <td>6.800000e+01</td>\n",
       "    </tr>\n",
       "    <tr>\n",
       "      <th>max</th>\n",
       "      <td>1.587256e+06</td>\n",
       "      <td>9.295000e+02</td>\n",
       "      <td>9.950000e+01</td>\n",
       "      <td>3.590000e+02</td>\n",
       "      <td>3.230000e+01</td>\n",
       "      <td>3.590000e+02</td>\n",
       "      <td>3.600000e+01</td>\n",
       "      <td>3.590000e+02</td>\n",
       "      <td>3.200000e+01</td>\n",
       "      <td>6.550100e+02</td>\n",
       "      <td>6.330500e+04</td>\n",
       "      <td>9.300000e+01</td>\n",
       "    </tr>\n",
       "  </tbody>\n",
       "</table>\n",
       "</div>"
      ],
      "text/plain": [
       "              rowID  air_pressure      air_temp  avg_wind_direction  \\\n",
       "count  1.587257e+06  1.587257e+06  1.587257e+06        1.586824e+06   \n",
       "mean   7.936280e+05  9.168301e+02  6.185144e+01        1.619654e+02   \n",
       "std    4.582018e+05  3.051593e+00  1.183362e+01        9.520812e+01   \n",
       "min    0.000000e+00  9.050000e+02  3.164000e+01        0.000000e+00   \n",
       "25%    3.968140e+05  9.148000e+02  5.270000e+01        6.200000e+01   \n",
       "50%    7.936280e+05  9.167000e+02  6.224000e+01        1.820000e+02   \n",
       "75%    1.190442e+06  9.187000e+02  7.088000e+01        2.170000e+02   \n",
       "max    1.587256e+06  9.295000e+02  9.950000e+01        3.590000e+02   \n",
       "\n",
       "       avg_wind_speed  max_wind_direction  max_wind_speed  min_wind_direction  \\\n",
       "count    1.586824e+06        1.586824e+06    1.586824e+06        1.586824e+06   \n",
       "mean     2.774272e+00        1.634030e+02    3.399813e+00        1.668264e+02   \n",
       "std      2.060758e+00        9.236723e+01    2.423167e+00        9.746275e+01   \n",
       "min      0.000000e+00        0.000000e+00    1.000000e-01        0.000000e+00   \n",
       "25%      1.300000e+00        6.800000e+01    1.600000e+00        7.700000e+01   \n",
       "50%      2.200000e+00        1.870000e+02    2.700000e+00        1.800000e+02   \n",
       "75%      3.800000e+00        2.230000e+02    4.600000e+00        2.120000e+02   \n",
       "max      3.230000e+01        3.590000e+02    3.600000e+01        3.590000e+02   \n",
       "\n",
       "       min_wind_speed  rain_accumulation  rain_duration  relative_humidity  \n",
       "count    1.586824e+06       1.587256e+06   1.587256e+06       1.587257e+06  \n",
       "mean     2.133130e+00       1.854836e-03   5.361460e-01       4.760837e+01  \n",
       "std      1.745345e+00       9.609716e-01   8.114766e+01       2.621454e+01  \n",
       "min      0.000000e+00       0.000000e+00   0.000000e+00       7.000000e-01  \n",
       "25%      8.000000e-01       0.000000e+00   0.000000e+00       2.470000e+01  \n",
       "50%      1.600000e+00       0.000000e+00   0.000000e+00       4.470000e+01  \n",
       "75%      3.000000e+00       0.000000e+00   0.000000e+00       6.800000e+01  \n",
       "max      3.200000e+01       6.550100e+02   6.330500e+04       9.300000e+01  "
      ]
     },
     "execution_count": 7,
     "metadata": {},
     "output_type": "execute_result"
    }
   ],
   "source": [
    "df.describe()"
   ]
  },
  {
   "cell_type": "code",
   "execution_count": 8,
   "metadata": {},
   "outputs": [
    {
     "data": {
      "text/html": [
       "<div>\n",
       "<style scoped>\n",
       "    .dataframe tbody tr th:only-of-type {\n",
       "        vertical-align: middle;\n",
       "    }\n",
       "\n",
       "    .dataframe tbody tr th {\n",
       "        vertical-align: top;\n",
       "    }\n",
       "\n",
       "    .dataframe thead th {\n",
       "        text-align: right;\n",
       "    }\n",
       "</style>\n",
       "<table border=\"1\" class=\"dataframe\">\n",
       "  <thead>\n",
       "    <tr style=\"text-align: right;\">\n",
       "      <th></th>\n",
       "      <th>rowID</th>\n",
       "      <th>air_pressure</th>\n",
       "      <th>air_temp</th>\n",
       "      <th>avg_wind_direction</th>\n",
       "      <th>avg_wind_speed</th>\n",
       "      <th>max_wind_direction</th>\n",
       "      <th>max_wind_speed</th>\n",
       "      <th>min_wind_direction</th>\n",
       "      <th>min_wind_speed</th>\n",
       "      <th>rain_accumulation</th>\n",
       "      <th>rain_duration</th>\n",
       "      <th>relative_humidity</th>\n",
       "    </tr>\n",
       "  </thead>\n",
       "  <tbody>\n",
       "    <tr>\n",
       "      <th>rowID</th>\n",
       "      <td>1.000000</td>\n",
       "      <td>-0.055028</td>\n",
       "      <td>0.161705</td>\n",
       "      <td>0.033910</td>\n",
       "      <td>-0.033651</td>\n",
       "      <td>0.040278</td>\n",
       "      <td>-0.036821</td>\n",
       "      <td>0.027521</td>\n",
       "      <td>-0.031184</td>\n",
       "      <td>0.001783</td>\n",
       "      <td>0.000176</td>\n",
       "      <td>-0.027874</td>\n",
       "    </tr>\n",
       "    <tr>\n",
       "      <th>air_pressure</th>\n",
       "      <td>-0.055028</td>\n",
       "      <td>1.000000</td>\n",
       "      <td>0.046632</td>\n",
       "      <td>-0.195163</td>\n",
       "      <td>-0.079954</td>\n",
       "      <td>-0.218719</td>\n",
       "      <td>-0.062462</td>\n",
       "      <td>-0.139134</td>\n",
       "      <td>-0.098003</td>\n",
       "      <td>-0.000777</td>\n",
       "      <td>-0.006566</td>\n",
       "      <td>-0.375707</td>\n",
       "    </tr>\n",
       "    <tr>\n",
       "      <th>air_temp</th>\n",
       "      <td>0.161705</td>\n",
       "      <td>0.046632</td>\n",
       "      <td>1.000000</td>\n",
       "      <td>-0.016620</td>\n",
       "      <td>-0.208988</td>\n",
       "      <td>-0.046383</td>\n",
       "      <td>-0.208484</td>\n",
       "      <td>0.033342</td>\n",
       "      <td>-0.200032</td>\n",
       "      <td>-0.000609</td>\n",
       "      <td>-0.006268</td>\n",
       "      <td>-0.620232</td>\n",
       "    </tr>\n",
       "    <tr>\n",
       "      <th>avg_wind_direction</th>\n",
       "      <td>0.033910</td>\n",
       "      <td>-0.195163</td>\n",
       "      <td>-0.016620</td>\n",
       "      <td>1.000000</td>\n",
       "      <td>-0.031116</td>\n",
       "      <td>0.716316</td>\n",
       "      <td>-0.030637</td>\n",
       "      <td>0.622763</td>\n",
       "      <td>-0.035435</td>\n",
       "      <td>0.000061</td>\n",
       "      <td>0.000898</td>\n",
       "      <td>0.205828</td>\n",
       "    </tr>\n",
       "    <tr>\n",
       "      <th>avg_wind_speed</th>\n",
       "      <td>-0.033651</td>\n",
       "      <td>-0.079954</td>\n",
       "      <td>-0.208988</td>\n",
       "      <td>-0.031116</td>\n",
       "      <td>1.000000</td>\n",
       "      <td>0.017618</td>\n",
       "      <td>0.985009</td>\n",
       "      <td>-0.117807</td>\n",
       "      <td>0.970987</td>\n",
       "      <td>0.001759</td>\n",
       "      <td>0.006652</td>\n",
       "      <td>0.061139</td>\n",
       "    </tr>\n",
       "    <tr>\n",
       "      <th>max_wind_direction</th>\n",
       "      <td>0.040278</td>\n",
       "      <td>-0.218719</td>\n",
       "      <td>-0.046383</td>\n",
       "      <td>0.716316</td>\n",
       "      <td>0.017618</td>\n",
       "      <td>1.000000</td>\n",
       "      <td>0.017504</td>\n",
       "      <td>0.421684</td>\n",
       "      <td>0.010341</td>\n",
       "      <td>0.000353</td>\n",
       "      <td>0.001653</td>\n",
       "      <td>0.241055</td>\n",
       "    </tr>\n",
       "    <tr>\n",
       "      <th>max_wind_speed</th>\n",
       "      <td>-0.036821</td>\n",
       "      <td>-0.062462</td>\n",
       "      <td>-0.208484</td>\n",
       "      <td>-0.030637</td>\n",
       "      <td>0.985009</td>\n",
       "      <td>0.017504</td>\n",
       "      <td>1.000000</td>\n",
       "      <td>-0.112538</td>\n",
       "      <td>0.925881</td>\n",
       "      <td>0.001728</td>\n",
       "      <td>0.007033</td>\n",
       "      <td>0.048773</td>\n",
       "    </tr>\n",
       "    <tr>\n",
       "      <th>min_wind_direction</th>\n",
       "      <td>0.027521</td>\n",
       "      <td>-0.139134</td>\n",
       "      <td>0.033342</td>\n",
       "      <td>0.622763</td>\n",
       "      <td>-0.117807</td>\n",
       "      <td>0.421684</td>\n",
       "      <td>-0.112538</td>\n",
       "      <td>1.000000</td>\n",
       "      <td>-0.121161</td>\n",
       "      <td>-0.000339</td>\n",
       "      <td>-0.000453</td>\n",
       "      <td>0.129132</td>\n",
       "    </tr>\n",
       "    <tr>\n",
       "      <th>min_wind_speed</th>\n",
       "      <td>-0.031184</td>\n",
       "      <td>-0.098003</td>\n",
       "      <td>-0.200032</td>\n",
       "      <td>-0.035435</td>\n",
       "      <td>0.970987</td>\n",
       "      <td>0.010341</td>\n",
       "      <td>0.925881</td>\n",
       "      <td>-0.121161</td>\n",
       "      <td>1.000000</td>\n",
       "      <td>0.001719</td>\n",
       "      <td>0.005801</td>\n",
       "      <td>0.072226</td>\n",
       "    </tr>\n",
       "    <tr>\n",
       "      <th>rain_accumulation</th>\n",
       "      <td>0.001783</td>\n",
       "      <td>-0.000777</td>\n",
       "      <td>-0.000609</td>\n",
       "      <td>0.000061</td>\n",
       "      <td>0.001759</td>\n",
       "      <td>0.000353</td>\n",
       "      <td>0.001728</td>\n",
       "      <td>-0.000339</td>\n",
       "      <td>0.001719</td>\n",
       "      <td>1.000000</td>\n",
       "      <td>0.927017</td>\n",
       "      <td>0.000584</td>\n",
       "    </tr>\n",
       "    <tr>\n",
       "      <th>rain_duration</th>\n",
       "      <td>0.000176</td>\n",
       "      <td>-0.006566</td>\n",
       "      <td>-0.006268</td>\n",
       "      <td>0.000898</td>\n",
       "      <td>0.006652</td>\n",
       "      <td>0.001653</td>\n",
       "      <td>0.007033</td>\n",
       "      <td>-0.000453</td>\n",
       "      <td>0.005801</td>\n",
       "      <td>0.927017</td>\n",
       "      <td>1.000000</td>\n",
       "      <td>0.006933</td>\n",
       "    </tr>\n",
       "    <tr>\n",
       "      <th>relative_humidity</th>\n",
       "      <td>-0.027874</td>\n",
       "      <td>-0.375707</td>\n",
       "      <td>-0.620232</td>\n",
       "      <td>0.205828</td>\n",
       "      <td>0.061139</td>\n",
       "      <td>0.241055</td>\n",
       "      <td>0.048773</td>\n",
       "      <td>0.129132</td>\n",
       "      <td>0.072226</td>\n",
       "      <td>0.000584</td>\n",
       "      <td>0.006933</td>\n",
       "      <td>1.000000</td>\n",
       "    </tr>\n",
       "  </tbody>\n",
       "</table>\n",
       "</div>"
      ],
      "text/plain": [
       "                       rowID  air_pressure  air_temp  avg_wind_direction  \\\n",
       "rowID               1.000000     -0.055028  0.161705            0.033910   \n",
       "air_pressure       -0.055028      1.000000  0.046632           -0.195163   \n",
       "air_temp            0.161705      0.046632  1.000000           -0.016620   \n",
       "avg_wind_direction  0.033910     -0.195163 -0.016620            1.000000   \n",
       "avg_wind_speed     -0.033651     -0.079954 -0.208988           -0.031116   \n",
       "max_wind_direction  0.040278     -0.218719 -0.046383            0.716316   \n",
       "max_wind_speed     -0.036821     -0.062462 -0.208484           -0.030637   \n",
       "min_wind_direction  0.027521     -0.139134  0.033342            0.622763   \n",
       "min_wind_speed     -0.031184     -0.098003 -0.200032           -0.035435   \n",
       "rain_accumulation   0.001783     -0.000777 -0.000609            0.000061   \n",
       "rain_duration       0.000176     -0.006566 -0.006268            0.000898   \n",
       "relative_humidity  -0.027874     -0.375707 -0.620232            0.205828   \n",
       "\n",
       "                    avg_wind_speed  max_wind_direction  max_wind_speed  \\\n",
       "rowID                    -0.033651            0.040278       -0.036821   \n",
       "air_pressure             -0.079954           -0.218719       -0.062462   \n",
       "air_temp                 -0.208988           -0.046383       -0.208484   \n",
       "avg_wind_direction       -0.031116            0.716316       -0.030637   \n",
       "avg_wind_speed            1.000000            0.017618        0.985009   \n",
       "max_wind_direction        0.017618            1.000000        0.017504   \n",
       "max_wind_speed            0.985009            0.017504        1.000000   \n",
       "min_wind_direction       -0.117807            0.421684       -0.112538   \n",
       "min_wind_speed            0.970987            0.010341        0.925881   \n",
       "rain_accumulation         0.001759            0.000353        0.001728   \n",
       "rain_duration             0.006652            0.001653        0.007033   \n",
       "relative_humidity         0.061139            0.241055        0.048773   \n",
       "\n",
       "                    min_wind_direction  min_wind_speed  rain_accumulation  \\\n",
       "rowID                         0.027521       -0.031184           0.001783   \n",
       "air_pressure                 -0.139134       -0.098003          -0.000777   \n",
       "air_temp                      0.033342       -0.200032          -0.000609   \n",
       "avg_wind_direction            0.622763       -0.035435           0.000061   \n",
       "avg_wind_speed               -0.117807        0.970987           0.001759   \n",
       "max_wind_direction            0.421684        0.010341           0.000353   \n",
       "max_wind_speed               -0.112538        0.925881           0.001728   \n",
       "min_wind_direction            1.000000       -0.121161          -0.000339   \n",
       "min_wind_speed               -0.121161        1.000000           0.001719   \n",
       "rain_accumulation            -0.000339        0.001719           1.000000   \n",
       "rain_duration                -0.000453        0.005801           0.927017   \n",
       "relative_humidity             0.129132        0.072226           0.000584   \n",
       "\n",
       "                    rain_duration  relative_humidity  \n",
       "rowID                    0.000176          -0.027874  \n",
       "air_pressure            -0.006566          -0.375707  \n",
       "air_temp                -0.006268          -0.620232  \n",
       "avg_wind_direction       0.000898           0.205828  \n",
       "avg_wind_speed           0.006652           0.061139  \n",
       "max_wind_direction       0.001653           0.241055  \n",
       "max_wind_speed           0.007033           0.048773  \n",
       "min_wind_direction      -0.000453           0.129132  \n",
       "min_wind_speed           0.005801           0.072226  \n",
       "rain_accumulation        0.927017           0.000584  \n",
       "rain_duration            1.000000           0.006933  \n",
       "relative_humidity        0.006933           1.000000  "
      ]
     },
     "execution_count": 8,
     "metadata": {},
     "output_type": "execute_result"
    }
   ],
   "source": [
    "df.corr()"
   ]
  },
  {
   "cell_type": "code",
   "execution_count": 9,
   "metadata": {},
   "outputs": [
    {
     "data": {
      "image/png": "[encoded data removed]",
      "text/plain": [
       "<Figure size 432x288 with 1 Axes>"
      ]
     },
     "metadata": {
      "needs_background": "light"
     },
     "output_type": "display_data"
    }
   ],
   "source": [
    "plt.hist(df['relative_humidity'], bins = 10)\n",
    "plt.show()"
   ]
  },
  {
   "cell_type": "code",
   "execution_count": 10,
   "metadata": {},
   "outputs": [],
   "source": [
    "#plt.bar(df['air_pressure'],df['relative_humidity'])\n",
    "#plt.show()"
   ]
  },
  {
   "cell_type": "code",
   "execution_count": 11,
   "metadata": {},
   "outputs": [
    {
     "data": {
      "text/plain": [
       "(158726, 13)"
      ]
     },
     "execution_count": 11,
     "metadata": {},
     "output_type": "execute_result"
    }
   ],
   "source": [
    "sample_df=df[(df['rowID']%10)==0]\n",
    "sample_df.shape"
   ]
  },
  {
   "cell_type": "code",
   "execution_count": 12,
   "metadata": {},
   "outputs": [
    {
     "data": {
      "text/html": [
       "<div>\n",
       "<style scoped>\n",
       "    .dataframe tbody tr th:only-of-type {\n",
       "        vertical-align: middle;\n",
       "    }\n",
       "\n",
       "    .dataframe tbody tr th {\n",
       "        vertical-align: top;\n",
       "    }\n",
       "\n",
       "    .dataframe thead th {\n",
       "        text-align: right;\n",
       "    }\n",
       "</style>\n",
       "<table border=\"1\" class=\"dataframe\">\n",
       "  <thead>\n",
       "    <tr style=\"text-align: right;\">\n",
       "      <th></th>\n",
       "      <th>count</th>\n",
       "      <th>mean</th>\n",
       "      <th>std</th>\n",
       "      <th>min</th>\n",
       "      <th>25%</th>\n",
       "      <th>50%</th>\n",
       "      <th>75%</th>\n",
       "      <th>max</th>\n",
       "    </tr>\n",
       "  </thead>\n",
       "  <tbody>\n",
       "    <tr>\n",
       "      <th>rowID</th>\n",
       "      <td>158726.0</td>\n",
       "      <td>793625.000000</td>\n",
       "      <td>458203.937509</td>\n",
       "      <td>0.00</td>\n",
       "      <td>396812.5</td>\n",
       "      <td>793625.00</td>\n",
       "      <td>1190437.50</td>\n",
       "      <td>1587250.00</td>\n",
       "    </tr>\n",
       "    <tr>\n",
       "      <th>air_pressure</th>\n",
       "      <td>158726.0</td>\n",
       "      <td>916.830161</td>\n",
       "      <td>3.051717</td>\n",
       "      <td>905.00</td>\n",
       "      <td>914.8</td>\n",
       "      <td>916.70</td>\n",
       "      <td>918.70</td>\n",
       "      <td>929.50</td>\n",
       "    </tr>\n",
       "    <tr>\n",
       "      <th>air_temp</th>\n",
       "      <td>158726.0</td>\n",
       "      <td>61.851589</td>\n",
       "      <td>11.833569</td>\n",
       "      <td>31.64</td>\n",
       "      <td>52.7</td>\n",
       "      <td>62.24</td>\n",
       "      <td>70.88</td>\n",
       "      <td>99.50</td>\n",
       "    </tr>\n",
       "    <tr>\n",
       "      <th>avg_wind_direction</th>\n",
       "      <td>158680.0</td>\n",
       "      <td>162.156100</td>\n",
       "      <td>95.278201</td>\n",
       "      <td>0.00</td>\n",
       "      <td>62.0</td>\n",
       "      <td>182.00</td>\n",
       "      <td>217.00</td>\n",
       "      <td>359.00</td>\n",
       "    </tr>\n",
       "    <tr>\n",
       "      <th>avg_wind_speed</th>\n",
       "      <td>158680.0</td>\n",
       "      <td>2.775215</td>\n",
       "      <td>2.057624</td>\n",
       "      <td>0.00</td>\n",
       "      <td>1.3</td>\n",
       "      <td>2.20</td>\n",
       "      <td>3.80</td>\n",
       "      <td>31.90</td>\n",
       "    </tr>\n",
       "    <tr>\n",
       "      <th>max_wind_direction</th>\n",
       "      <td>158680.0</td>\n",
       "      <td>163.462144</td>\n",
       "      <td>92.452139</td>\n",
       "      <td>0.00</td>\n",
       "      <td>68.0</td>\n",
       "      <td>187.00</td>\n",
       "      <td>223.00</td>\n",
       "      <td>359.00</td>\n",
       "    </tr>\n",
       "    <tr>\n",
       "      <th>max_wind_speed</th>\n",
       "      <td>158680.0</td>\n",
       "      <td>3.400558</td>\n",
       "      <td>2.418802</td>\n",
       "      <td>0.10</td>\n",
       "      <td>1.6</td>\n",
       "      <td>2.70</td>\n",
       "      <td>4.60</td>\n",
       "      <td>36.00</td>\n",
       "    </tr>\n",
       "    <tr>\n",
       "      <th>min_wind_direction</th>\n",
       "      <td>158680.0</td>\n",
       "      <td>166.774017</td>\n",
       "      <td>97.441109</td>\n",
       "      <td>0.00</td>\n",
       "      <td>76.0</td>\n",
       "      <td>180.00</td>\n",
       "      <td>212.00</td>\n",
       "      <td>359.00</td>\n",
       "    </tr>\n",
       "    <tr>\n",
       "      <th>min_wind_speed</th>\n",
       "      <td>158680.0</td>\n",
       "      <td>2.134664</td>\n",
       "      <td>1.742113</td>\n",
       "      <td>0.00</td>\n",
       "      <td>0.8</td>\n",
       "      <td>1.60</td>\n",
       "      <td>3.00</td>\n",
       "      <td>31.60</td>\n",
       "    </tr>\n",
       "    <tr>\n",
       "      <th>rain_accumulation</th>\n",
       "      <td>158725.0</td>\n",
       "      <td>0.000318</td>\n",
       "      <td>0.011236</td>\n",
       "      <td>0.00</td>\n",
       "      <td>0.0</td>\n",
       "      <td>0.00</td>\n",
       "      <td>0.00</td>\n",
       "      <td>3.12</td>\n",
       "    </tr>\n",
       "    <tr>\n",
       "      <th>rain_duration</th>\n",
       "      <td>158725.0</td>\n",
       "      <td>0.409627</td>\n",
       "      <td>8.665523</td>\n",
       "      <td>0.00</td>\n",
       "      <td>0.0</td>\n",
       "      <td>0.00</td>\n",
       "      <td>0.00</td>\n",
       "      <td>2960.00</td>\n",
       "    </tr>\n",
       "    <tr>\n",
       "      <th>relative_humidity</th>\n",
       "      <td>158726.0</td>\n",
       "      <td>47.609470</td>\n",
       "      <td>26.214409</td>\n",
       "      <td>0.90</td>\n",
       "      <td>24.7</td>\n",
       "      <td>44.70</td>\n",
       "      <td>68.00</td>\n",
       "      <td>93.00</td>\n",
       "    </tr>\n",
       "  </tbody>\n",
       "</table>\n",
       "</div>"
      ],
      "text/plain": [
       "                       count           mean            std     min       25%  \\\n",
       "rowID               158726.0  793625.000000  458203.937509    0.00  396812.5   \n",
       "air_pressure        158726.0     916.830161       3.051717  905.00     914.8   \n",
       "air_temp            158726.0      61.851589      11.833569   31.64      52.7   \n",
       "avg_wind_direction  158680.0     162.156100      95.278201    0.00      62.0   \n",
       "avg_wind_speed      158680.0       2.775215       2.057624    0.00       1.3   \n",
       "max_wind_direction  158680.0     163.462144      92.452139    0.00      68.0   \n",
       "max_wind_speed      158680.0       3.400558       2.418802    0.10       1.6   \n",
       "min_wind_direction  158680.0     166.774017      97.441109    0.00      76.0   \n",
       "min_wind_speed      158680.0       2.134664       1.742113    0.00       0.8   \n",
       "rain_accumulation   158725.0       0.000318       0.011236    0.00       0.0   \n",
       "rain_duration       158725.0       0.409627       8.665523    0.00       0.0   \n",
       "relative_humidity   158726.0      47.609470      26.214409    0.90      24.7   \n",
       "\n",
       "                          50%         75%         max  \n",
       "rowID               793625.00  1190437.50  1587250.00  \n",
       "air_pressure           916.70      918.70      929.50  \n",
       "air_temp                62.24       70.88       99.50  \n",
       "avg_wind_direction     182.00      217.00      359.00  \n",
       "avg_wind_speed           2.20        3.80       31.90  \n",
       "max_wind_direction     187.00      223.00      359.00  \n",
       "max_wind_speed           2.70        4.60       36.00  \n",
       "min_wind_direction     180.00      212.00      359.00  \n",
       "min_wind_speed           1.60        3.00       31.60  \n",
       "rain_accumulation        0.00        0.00        3.12  \n",
       "rain_duration            0.00        0.00     2960.00  \n",
       "relative_humidity       44.70       68.00       93.00  "
      ]
     },
     "execution_count": 12,
     "metadata": {},
     "output_type": "execute_result"
    }
   ],
   "source": [
    "sample_df.describe().transpose()"
   ]
  },
  {
   "cell_type": "code",
   "execution_count": 13,
   "metadata": {},
   "outputs": [
    {
     "data": {
      "text/plain": [
       "(157812, 13)"
      ]
     },
     "execution_count": 13,
     "metadata": {},
     "output_type": "execute_result"
    }
   ],
   "source": [
    "sample_df[sample_df['rain_accumulation']==0].shape"
   ]
  },
  {
   "cell_type": "code",
   "execution_count": 14,
   "metadata": {},
   "outputs": [
    {
     "data": {
      "text/plain": [
       "(157237, 13)"
      ]
     },
     "execution_count": 14,
     "metadata": {},
     "output_type": "execute_result"
    }
   ],
   "source": [
    "sample_df[sample_df['rain_duration']==0].shape"
   ]
  },
  {
   "cell_type": "markdown",
   "metadata": {},
   "source": [
    "drop all the rows with empty ran_duration and rain_accumulation"
   ]
  },
  {
   "cell_type": "code",
   "execution_count": 15,
   "metadata": {},
   "outputs": [],
   "source": [
    "del sample_df['rain_accumulation']\n",
    "del sample_df['rain_duration']"
   ]
  },
  {
   "cell_type": "code",
   "execution_count": 16,
   "metadata": {},
   "outputs": [],
   "source": [
    "row_before=sample_df.shape[0]\n",
    "sample_df=sample_df.dropna()\n",
    "row_after=sample_df.shape[0]\n"
   ]
  },
  {
   "cell_type": "code",
   "execution_count": 17,
   "metadata": {},
   "outputs": [
    {
     "data": {
      "text/plain": [
       "(158680, 11)"
      ]
     },
     "execution_count": 17,
     "metadata": {},
     "output_type": "execute_result"
    }
   ],
   "source": [
    "sample_df.shape"
   ]
  },
  {
   "cell_type": "code",
   "execution_count": 18,
   "metadata": {},
   "outputs": [
    {
     "data": {
      "text/plain": [
       "46"
      ]
     },
     "execution_count": 18,
     "metadata": {},
     "output_type": "execute_result"
    }
   ],
   "source": [
    "row_before - row_after"
   ]
  },
  {
   "cell_type": "code",
   "execution_count": 19,
   "metadata": {},
   "outputs": [
    {
     "data": {
      "text/plain": [
       "Index(['rowID', 'hpwren_timestamp', 'air_pressure', 'air_temp',\n",
       "       'avg_wind_direction', 'avg_wind_speed', 'max_wind_direction',\n",
       "       'max_wind_speed', 'min_wind_direction', 'min_wind_speed',\n",
       "       'relative_humidity'],\n",
       "      dtype='object')"
      ]
     },
     "execution_count": 19,
     "metadata": {},
     "output_type": "execute_result"
    }
   ],
   "source": [
    "sample_df.columns"
   ]
  },
  {
   "cell_type": "code",
   "execution_count": null,
   "metadata": {},
   "outputs": [],
   "source": []
  },
  {
   "cell_type": "code",
   "execution_count": 20,
   "metadata": {},
   "outputs": [],
   "source": [
    "features=['air_pressure','air_temp',\n",
    "       'avg_wind_direction', 'avg_wind_speed', 'max_wind_direction',\n",
    "       'max_wind_speed','relative_humidity']"
   ]
  },
  {
   "cell_type": "code",
   "execution_count": 21,
   "metadata": {},
   "outputs": [],
   "source": [
    "select_df=sample_df[features]"
   ]
  },
  {
   "cell_type": "code",
   "execution_count": 22,
   "metadata": {},
   "outputs": [
    {
     "data": {
      "text/plain": [
       "Index(['air_pressure', 'air_temp', 'avg_wind_direction', 'avg_wind_speed',\n",
       "       'max_wind_direction', 'max_wind_speed', 'relative_humidity'],\n",
       "      dtype='object')"
      ]
     },
     "execution_count": 22,
     "metadata": {},
     "output_type": "execute_result"
    }
   ],
   "source": [
    "select_df.columns"
   ]
  },
  {
   "cell_type": "code",
   "execution_count": 23,
   "metadata": {},
   "outputs": [
    {
     "data": {
      "text/html": [
       "<div>\n",
       "<style scoped>\n",
       "    .dataframe tbody tr th:only-of-type {\n",
       "        vertical-align: middle;\n",
       "    }\n",
       "\n",
       "    .dataframe tbody tr th {\n",
       "        vertical-align: top;\n",
       "    }\n",
       "\n",
       "    .dataframe thead th {\n",
       "        text-align: right;\n",
       "    }\n",
       "</style>\n",
       "<table border=\"1\" class=\"dataframe\">\n",
       "  <thead>\n",
       "    <tr style=\"text-align: right;\">\n",
       "      <th></th>\n",
       "      <th>air_pressure</th>\n",
       "      <th>air_temp</th>\n",
       "      <th>avg_wind_direction</th>\n",
       "      <th>avg_wind_speed</th>\n",
       "      <th>max_wind_direction</th>\n",
       "      <th>max_wind_speed</th>\n",
       "      <th>relative_humidity</th>\n",
       "    </tr>\n",
       "  </thead>\n",
       "  <tbody>\n",
       "    <tr>\n",
       "      <th>0</th>\n",
       "      <td>912.3</td>\n",
       "      <td>64.76</td>\n",
       "      <td>97.0</td>\n",
       "      <td>1.2</td>\n",
       "      <td>106.0</td>\n",
       "      <td>1.6</td>\n",
       "      <td>60.5</td>\n",
       "    </tr>\n",
       "    <tr>\n",
       "      <th>10</th>\n",
       "      <td>912.3</td>\n",
       "      <td>62.24</td>\n",
       "      <td>144.0</td>\n",
       "      <td>1.2</td>\n",
       "      <td>167.0</td>\n",
       "      <td>1.8</td>\n",
       "      <td>38.5</td>\n",
       "    </tr>\n",
       "    <tr>\n",
       "      <th>20</th>\n",
       "      <td>912.2</td>\n",
       "      <td>63.32</td>\n",
       "      <td>100.0</td>\n",
       "      <td>2.0</td>\n",
       "      <td>122.0</td>\n",
       "      <td>2.5</td>\n",
       "      <td>58.3</td>\n",
       "    </tr>\n",
       "    <tr>\n",
       "      <th>30</th>\n",
       "      <td>912.2</td>\n",
       "      <td>62.60</td>\n",
       "      <td>91.0</td>\n",
       "      <td>2.0</td>\n",
       "      <td>103.0</td>\n",
       "      <td>2.4</td>\n",
       "      <td>57.9</td>\n",
       "    </tr>\n",
       "    <tr>\n",
       "      <th>40</th>\n",
       "      <td>912.2</td>\n",
       "      <td>64.04</td>\n",
       "      <td>81.0</td>\n",
       "      <td>2.6</td>\n",
       "      <td>88.0</td>\n",
       "      <td>2.9</td>\n",
       "      <td>57.4</td>\n",
       "    </tr>\n",
       "    <tr>\n",
       "      <th>50</th>\n",
       "      <td>912.1</td>\n",
       "      <td>63.68</td>\n",
       "      <td>102.0</td>\n",
       "      <td>1.2</td>\n",
       "      <td>119.0</td>\n",
       "      <td>1.5</td>\n",
       "      <td>51.4</td>\n",
       "    </tr>\n",
       "    <tr>\n",
       "      <th>60</th>\n",
       "      <td>912.0</td>\n",
       "      <td>64.04</td>\n",
       "      <td>83.0</td>\n",
       "      <td>0.7</td>\n",
       "      <td>101.0</td>\n",
       "      <td>0.9</td>\n",
       "      <td>51.4</td>\n",
       "    </tr>\n",
       "    <tr>\n",
       "      <th>70</th>\n",
       "      <td>911.9</td>\n",
       "      <td>64.22</td>\n",
       "      <td>82.0</td>\n",
       "      <td>2.0</td>\n",
       "      <td>97.0</td>\n",
       "      <td>2.4</td>\n",
       "      <td>62.2</td>\n",
       "    </tr>\n",
       "    <tr>\n",
       "      <th>80</th>\n",
       "      <td>911.9</td>\n",
       "      <td>61.70</td>\n",
       "      <td>67.0</td>\n",
       "      <td>3.3</td>\n",
       "      <td>70.0</td>\n",
       "      <td>3.5</td>\n",
       "      <td>71.5</td>\n",
       "    </tr>\n",
       "    <tr>\n",
       "      <th>90</th>\n",
       "      <td>911.9</td>\n",
       "      <td>61.34</td>\n",
       "      <td>67.0</td>\n",
       "      <td>3.6</td>\n",
       "      <td>75.0</td>\n",
       "      <td>4.2</td>\n",
       "      <td>72.5</td>\n",
       "    </tr>\n",
       "    <tr>\n",
       "      <th>100</th>\n",
       "      <td>911.8</td>\n",
       "      <td>62.96</td>\n",
       "      <td>95.0</td>\n",
       "      <td>2.3</td>\n",
       "      <td>106.0</td>\n",
       "      <td>2.5</td>\n",
       "      <td>63.9</td>\n",
       "    </tr>\n",
       "    <tr>\n",
       "      <th>110</th>\n",
       "      <td>911.8</td>\n",
       "      <td>64.22</td>\n",
       "      <td>83.0</td>\n",
       "      <td>2.1</td>\n",
       "      <td>88.0</td>\n",
       "      <td>2.5</td>\n",
       "      <td>59.1</td>\n",
       "    </tr>\n",
       "    <tr>\n",
       "      <th>120</th>\n",
       "      <td>911.8</td>\n",
       "      <td>63.86</td>\n",
       "      <td>68.0</td>\n",
       "      <td>2.1</td>\n",
       "      <td>76.0</td>\n",
       "      <td>2.4</td>\n",
       "      <td>63.5</td>\n",
       "    </tr>\n",
       "    <tr>\n",
       "      <th>130</th>\n",
       "      <td>911.6</td>\n",
       "      <td>64.40</td>\n",
       "      <td>156.0</td>\n",
       "      <td>0.5</td>\n",
       "      <td>203.0</td>\n",
       "      <td>0.7</td>\n",
       "      <td>50.4</td>\n",
       "    </tr>\n",
       "    <tr>\n",
       "      <th>140</th>\n",
       "      <td>911.5</td>\n",
       "      <td>65.30</td>\n",
       "      <td>85.0</td>\n",
       "      <td>2.2</td>\n",
       "      <td>92.0</td>\n",
       "      <td>2.5</td>\n",
       "      <td>58.0</td>\n",
       "    </tr>\n",
       "    <tr>\n",
       "      <th>150</th>\n",
       "      <td>911.4</td>\n",
       "      <td>64.58</td>\n",
       "      <td>154.0</td>\n",
       "      <td>1.3</td>\n",
       "      <td>176.0</td>\n",
       "      <td>2.1</td>\n",
       "      <td>50.2</td>\n",
       "    </tr>\n",
       "    <tr>\n",
       "      <th>160</th>\n",
       "      <td>911.4</td>\n",
       "      <td>65.48</td>\n",
       "      <td>154.0</td>\n",
       "      <td>0.9</td>\n",
       "      <td>208.0</td>\n",
       "      <td>1.9</td>\n",
       "      <td>46.2</td>\n",
       "    </tr>\n",
       "    <tr>\n",
       "      <th>170</th>\n",
       "      <td>911.5</td>\n",
       "      <td>65.66</td>\n",
       "      <td>95.0</td>\n",
       "      <td>1.1</td>\n",
       "      <td>109.0</td>\n",
       "      <td>1.6</td>\n",
       "      <td>45.2</td>\n",
       "    </tr>\n",
       "    <tr>\n",
       "      <th>180</th>\n",
       "      <td>911.4</td>\n",
       "      <td>65.66</td>\n",
       "      <td>155.0</td>\n",
       "      <td>1.1</td>\n",
       "      <td>167.0</td>\n",
       "      <td>1.6</td>\n",
       "      <td>42.8</td>\n",
       "    </tr>\n",
       "    <tr>\n",
       "      <th>190</th>\n",
       "      <td>911.4</td>\n",
       "      <td>67.10</td>\n",
       "      <td>157.0</td>\n",
       "      <td>1.2</td>\n",
       "      <td>172.0</td>\n",
       "      <td>1.6</td>\n",
       "      <td>36.8</td>\n",
       "    </tr>\n",
       "    <tr>\n",
       "      <th>200</th>\n",
       "      <td>911.4</td>\n",
       "      <td>68.00</td>\n",
       "      <td>53.0</td>\n",
       "      <td>0.3</td>\n",
       "      <td>69.0</td>\n",
       "      <td>0.5</td>\n",
       "      <td>33.4</td>\n",
       "    </tr>\n",
       "    <tr>\n",
       "      <th>210</th>\n",
       "      <td>911.3</td>\n",
       "      <td>67.64</td>\n",
       "      <td>167.0</td>\n",
       "      <td>1.5</td>\n",
       "      <td>196.0</td>\n",
       "      <td>2.2</td>\n",
       "      <td>34.4</td>\n",
       "    </tr>\n",
       "    <tr>\n",
       "      <th>220</th>\n",
       "      <td>911.4</td>\n",
       "      <td>67.82</td>\n",
       "      <td>4.0</td>\n",
       "      <td>0.6</td>\n",
       "      <td>25.0</td>\n",
       "      <td>0.7</td>\n",
       "      <td>34.2</td>\n",
       "    </tr>\n",
       "    <tr>\n",
       "      <th>230</th>\n",
       "      <td>911.4</td>\n",
       "      <td>66.74</td>\n",
       "      <td>172.0</td>\n",
       "      <td>1.3</td>\n",
       "      <td>192.0</td>\n",
       "      <td>1.9</td>\n",
       "      <td>37.8</td>\n",
       "    </tr>\n",
       "    <tr>\n",
       "      <th>240</th>\n",
       "      <td>911.4</td>\n",
       "      <td>66.56</td>\n",
       "      <td>39.0</td>\n",
       "      <td>0.2</td>\n",
       "      <td>145.0</td>\n",
       "      <td>0.3</td>\n",
       "      <td>41.6</td>\n",
       "    </tr>\n",
       "    <tr>\n",
       "      <th>250</th>\n",
       "      <td>911.4</td>\n",
       "      <td>65.66</td>\n",
       "      <td>56.0</td>\n",
       "      <td>1.9</td>\n",
       "      <td>67.0</td>\n",
       "      <td>2.2</td>\n",
       "      <td>51.8</td>\n",
       "    </tr>\n",
       "    <tr>\n",
       "      <th>260</th>\n",
       "      <td>911.5</td>\n",
       "      <td>65.66</td>\n",
       "      <td>74.0</td>\n",
       "      <td>0.8</td>\n",
       "      <td>101.0</td>\n",
       "      <td>1.2</td>\n",
       "      <td>41.1</td>\n",
       "    </tr>\n",
       "    <tr>\n",
       "      <th>270</th>\n",
       "      <td>911.4</td>\n",
       "      <td>66.92</td>\n",
       "      <td>147.0</td>\n",
       "      <td>0.9</td>\n",
       "      <td>174.0</td>\n",
       "      <td>1.1</td>\n",
       "      <td>36.0</td>\n",
       "    </tr>\n",
       "    <tr>\n",
       "      <th>280</th>\n",
       "      <td>911.3</td>\n",
       "      <td>64.76</td>\n",
       "      <td>73.0</td>\n",
       "      <td>1.0</td>\n",
       "      <td>82.0</td>\n",
       "      <td>1.2</td>\n",
       "      <td>43.3</td>\n",
       "    </tr>\n",
       "    <tr>\n",
       "      <th>290</th>\n",
       "      <td>911.3</td>\n",
       "      <td>64.94</td>\n",
       "      <td>164.0</td>\n",
       "      <td>1.3</td>\n",
       "      <td>176.0</td>\n",
       "      <td>1.7</td>\n",
       "      <td>43.0</td>\n",
       "    </tr>\n",
       "    <tr>\n",
       "      <th>...</th>\n",
       "      <td>...</td>\n",
       "      <td>...</td>\n",
       "      <td>...</td>\n",
       "      <td>...</td>\n",
       "      <td>...</td>\n",
       "      <td>...</td>\n",
       "      <td>...</td>\n",
       "    </tr>\n",
       "    <tr>\n",
       "      <th>1586960</th>\n",
       "      <td>914.7</td>\n",
       "      <td>76.46</td>\n",
       "      <td>247.0</td>\n",
       "      <td>0.6</td>\n",
       "      <td>264.0</td>\n",
       "      <td>0.7</td>\n",
       "      <td>43.4</td>\n",
       "    </tr>\n",
       "    <tr>\n",
       "      <th>1586970</th>\n",
       "      <td>914.8</td>\n",
       "      <td>76.28</td>\n",
       "      <td>208.0</td>\n",
       "      <td>0.7</td>\n",
       "      <td>216.0</td>\n",
       "      <td>0.9</td>\n",
       "      <td>43.7</td>\n",
       "    </tr>\n",
       "    <tr>\n",
       "      <th>1586980</th>\n",
       "      <td>914.8</td>\n",
       "      <td>76.10</td>\n",
       "      <td>209.0</td>\n",
       "      <td>0.7</td>\n",
       "      <td>216.0</td>\n",
       "      <td>0.9</td>\n",
       "      <td>43.9</td>\n",
       "    </tr>\n",
       "    <tr>\n",
       "      <th>1586990</th>\n",
       "      <td>914.9</td>\n",
       "      <td>76.28</td>\n",
       "      <td>339.0</td>\n",
       "      <td>0.5</td>\n",
       "      <td>350.0</td>\n",
       "      <td>0.7</td>\n",
       "      <td>43.4</td>\n",
       "    </tr>\n",
       "    <tr>\n",
       "      <th>1587000</th>\n",
       "      <td>914.9</td>\n",
       "      <td>75.92</td>\n",
       "      <td>344.0</td>\n",
       "      <td>0.4</td>\n",
       "      <td>352.0</td>\n",
       "      <td>0.6</td>\n",
       "      <td>43.9</td>\n",
       "    </tr>\n",
       "    <tr>\n",
       "      <th>1587010</th>\n",
       "      <td>915.0</td>\n",
       "      <td>75.56</td>\n",
       "      <td>323.0</td>\n",
       "      <td>0.3</td>\n",
       "      <td>348.0</td>\n",
       "      <td>0.5</td>\n",
       "      <td>45.5</td>\n",
       "    </tr>\n",
       "    <tr>\n",
       "      <th>1587020</th>\n",
       "      <td>915.1</td>\n",
       "      <td>75.56</td>\n",
       "      <td>324.0</td>\n",
       "      <td>1.1</td>\n",
       "      <td>347.0</td>\n",
       "      <td>1.5</td>\n",
       "      <td>46.0</td>\n",
       "    </tr>\n",
       "    <tr>\n",
       "      <th>1587030</th>\n",
       "      <td>915.1</td>\n",
       "      <td>75.74</td>\n",
       "      <td>1.0</td>\n",
       "      <td>1.3</td>\n",
       "      <td>13.0</td>\n",
       "      <td>1.7</td>\n",
       "      <td>45.8</td>\n",
       "    </tr>\n",
       "    <tr>\n",
       "      <th>1587040</th>\n",
       "      <td>915.2</td>\n",
       "      <td>75.38</td>\n",
       "      <td>355.0</td>\n",
       "      <td>0.9</td>\n",
       "      <td>1.0</td>\n",
       "      <td>1.1</td>\n",
       "      <td>46.1</td>\n",
       "    </tr>\n",
       "    <tr>\n",
       "      <th>1587050</th>\n",
       "      <td>915.3</td>\n",
       "      <td>75.38</td>\n",
       "      <td>359.0</td>\n",
       "      <td>1.4</td>\n",
       "      <td>11.0</td>\n",
       "      <td>1.5</td>\n",
       "      <td>45.8</td>\n",
       "    </tr>\n",
       "    <tr>\n",
       "      <th>1587060</th>\n",
       "      <td>915.4</td>\n",
       "      <td>75.38</td>\n",
       "      <td>11.0</td>\n",
       "      <td>1.1</td>\n",
       "      <td>21.0</td>\n",
       "      <td>1.3</td>\n",
       "      <td>45.7</td>\n",
       "    </tr>\n",
       "    <tr>\n",
       "      <th>1587070</th>\n",
       "      <td>915.5</td>\n",
       "      <td>75.38</td>\n",
       "      <td>13.0</td>\n",
       "      <td>1.4</td>\n",
       "      <td>24.0</td>\n",
       "      <td>1.6</td>\n",
       "      <td>46.6</td>\n",
       "    </tr>\n",
       "    <tr>\n",
       "      <th>1587080</th>\n",
       "      <td>915.6</td>\n",
       "      <td>75.20</td>\n",
       "      <td>18.0</td>\n",
       "      <td>1.0</td>\n",
       "      <td>24.0</td>\n",
       "      <td>1.2</td>\n",
       "      <td>46.5</td>\n",
       "    </tr>\n",
       "    <tr>\n",
       "      <th>1587090</th>\n",
       "      <td>915.6</td>\n",
       "      <td>75.20</td>\n",
       "      <td>356.0</td>\n",
       "      <td>1.7</td>\n",
       "      <td>1.0</td>\n",
       "      <td>1.9</td>\n",
       "      <td>47.2</td>\n",
       "    </tr>\n",
       "    <tr>\n",
       "      <th>1587100</th>\n",
       "      <td>915.7</td>\n",
       "      <td>75.38</td>\n",
       "      <td>13.0</td>\n",
       "      <td>1.5</td>\n",
       "      <td>24.0</td>\n",
       "      <td>1.7</td>\n",
       "      <td>46.7</td>\n",
       "    </tr>\n",
       "    <tr>\n",
       "      <th>1587110</th>\n",
       "      <td>915.7</td>\n",
       "      <td>75.02</td>\n",
       "      <td>19.0</td>\n",
       "      <td>1.2</td>\n",
       "      <td>28.0</td>\n",
       "      <td>1.4</td>\n",
       "      <td>46.7</td>\n",
       "    </tr>\n",
       "    <tr>\n",
       "      <th>1587120</th>\n",
       "      <td>915.7</td>\n",
       "      <td>74.84</td>\n",
       "      <td>25.0</td>\n",
       "      <td>1.4</td>\n",
       "      <td>35.0</td>\n",
       "      <td>1.6</td>\n",
       "      <td>46.5</td>\n",
       "    </tr>\n",
       "    <tr>\n",
       "      <th>1587130</th>\n",
       "      <td>915.8</td>\n",
       "      <td>74.84</td>\n",
       "      <td>23.0</td>\n",
       "      <td>1.3</td>\n",
       "      <td>30.0</td>\n",
       "      <td>1.5</td>\n",
       "      <td>46.9</td>\n",
       "    </tr>\n",
       "    <tr>\n",
       "      <th>1587140</th>\n",
       "      <td>915.8</td>\n",
       "      <td>74.84</td>\n",
       "      <td>32.0</td>\n",
       "      <td>1.4</td>\n",
       "      <td>41.0</td>\n",
       "      <td>1.7</td>\n",
       "      <td>45.5</td>\n",
       "    </tr>\n",
       "    <tr>\n",
       "      <th>1587150</th>\n",
       "      <td>915.8</td>\n",
       "      <td>75.20</td>\n",
       "      <td>23.0</td>\n",
       "      <td>1.1</td>\n",
       "      <td>31.0</td>\n",
       "      <td>1.4</td>\n",
       "      <td>45.7</td>\n",
       "    </tr>\n",
       "    <tr>\n",
       "      <th>1587160</th>\n",
       "      <td>915.8</td>\n",
       "      <td>75.38</td>\n",
       "      <td>16.0</td>\n",
       "      <td>1.2</td>\n",
       "      <td>28.0</td>\n",
       "      <td>1.5</td>\n",
       "      <td>46.3</td>\n",
       "    </tr>\n",
       "    <tr>\n",
       "      <th>1587170</th>\n",
       "      <td>915.7</td>\n",
       "      <td>75.38</td>\n",
       "      <td>347.0</td>\n",
       "      <td>1.2</td>\n",
       "      <td>353.0</td>\n",
       "      <td>1.4</td>\n",
       "      <td>48.1</td>\n",
       "    </tr>\n",
       "    <tr>\n",
       "      <th>1587180</th>\n",
       "      <td>915.8</td>\n",
       "      <td>75.74</td>\n",
       "      <td>326.0</td>\n",
       "      <td>1.2</td>\n",
       "      <td>337.0</td>\n",
       "      <td>1.6</td>\n",
       "      <td>48.3</td>\n",
       "    </tr>\n",
       "    <tr>\n",
       "      <th>1587190</th>\n",
       "      <td>915.9</td>\n",
       "      <td>75.92</td>\n",
       "      <td>289.0</td>\n",
       "      <td>0.7</td>\n",
       "      <td>309.0</td>\n",
       "      <td>0.9</td>\n",
       "      <td>48.1</td>\n",
       "    </tr>\n",
       "    <tr>\n",
       "      <th>1587200</th>\n",
       "      <td>915.9</td>\n",
       "      <td>75.74</td>\n",
       "      <td>335.0</td>\n",
       "      <td>0.9</td>\n",
       "      <td>348.0</td>\n",
       "      <td>1.1</td>\n",
       "      <td>47.8</td>\n",
       "    </tr>\n",
       "    <tr>\n",
       "      <th>1587210</th>\n",
       "      <td>915.9</td>\n",
       "      <td>75.56</td>\n",
       "      <td>330.0</td>\n",
       "      <td>1.0</td>\n",
       "      <td>341.0</td>\n",
       "      <td>1.3</td>\n",
       "      <td>47.8</td>\n",
       "    </tr>\n",
       "    <tr>\n",
       "      <th>1587220</th>\n",
       "      <td>915.9</td>\n",
       "      <td>75.56</td>\n",
       "      <td>330.0</td>\n",
       "      <td>1.1</td>\n",
       "      <td>341.0</td>\n",
       "      <td>1.4</td>\n",
       "      <td>48.0</td>\n",
       "    </tr>\n",
       "    <tr>\n",
       "      <th>1587230</th>\n",
       "      <td>915.9</td>\n",
       "      <td>75.56</td>\n",
       "      <td>344.0</td>\n",
       "      <td>1.4</td>\n",
       "      <td>352.0</td>\n",
       "      <td>1.7</td>\n",
       "      <td>48.0</td>\n",
       "    </tr>\n",
       "    <tr>\n",
       "      <th>1587240</th>\n",
       "      <td>915.9</td>\n",
       "      <td>75.20</td>\n",
       "      <td>359.0</td>\n",
       "      <td>1.3</td>\n",
       "      <td>9.0</td>\n",
       "      <td>1.6</td>\n",
       "      <td>46.3</td>\n",
       "    </tr>\n",
       "    <tr>\n",
       "      <th>1587250</th>\n",
       "      <td>915.9</td>\n",
       "      <td>74.84</td>\n",
       "      <td>6.0</td>\n",
       "      <td>1.5</td>\n",
       "      <td>20.0</td>\n",
       "      <td>1.9</td>\n",
       "      <td>46.1</td>\n",
       "    </tr>\n",
       "  </tbody>\n",
       "</table>\n",
       "<p>158680 rows × 7 columns</p>\n",
       "</div>"
      ],
      "text/plain": [
       "         air_pressure  air_temp  avg_wind_direction  avg_wind_speed  \\\n",
       "0               912.3     64.76                97.0             1.2   \n",
       "10              912.3     62.24               144.0             1.2   \n",
       "20              912.2     63.32               100.0             2.0   \n",
       "30              912.2     62.60                91.0             2.0   \n",
       "40              912.2     64.04                81.0             2.6   \n",
       "50              912.1     63.68               102.0             1.2   \n",
       "60              912.0     64.04                83.0             0.7   \n",
       "70              911.9     64.22                82.0             2.0   \n",
       "80              911.9     61.70                67.0             3.3   \n",
       "90              911.9     61.34                67.0             3.6   \n",
       "100             911.8     62.96                95.0             2.3   \n",
       "110             911.8     64.22                83.0             2.1   \n",
       "120             911.8     63.86                68.0             2.1   \n",
       "130             911.6     64.40               156.0             0.5   \n",
       "140             911.5     65.30                85.0             2.2   \n",
       "150             911.4     64.58               154.0             1.3   \n",
       "160             911.4     65.48               154.0             0.9   \n",
       "170             911.5     65.66                95.0             1.1   \n",
       "180             911.4     65.66               155.0             1.1   \n",
       "190             911.4     67.10               157.0             1.2   \n",
       "200             911.4     68.00                53.0             0.3   \n",
       "210             911.3     67.64               167.0             1.5   \n",
       "220             911.4     67.82                 4.0             0.6   \n",
       "230             911.4     66.74               172.0             1.3   \n",
       "240             911.4     66.56                39.0             0.2   \n",
       "250             911.4     65.66                56.0             1.9   \n",
       "260             911.5     65.66                74.0             0.8   \n",
       "270             911.4     66.92               147.0             0.9   \n",
       "280             911.3     64.76                73.0             1.0   \n",
       "290             911.3     64.94               164.0             1.3   \n",
       "...               ...       ...                 ...             ...   \n",
       "1586960         914.7     76.46               247.0             0.6   \n",
       "1586970         914.8     76.28               208.0             0.7   \n",
       "1586980         914.8     76.10               209.0             0.7   \n",
       "1586990         914.9     76.28               339.0             0.5   \n",
       "1587000         914.9     75.92               344.0             0.4   \n",
       "1587010         915.0     75.56               323.0             0.3   \n",
       "1587020         915.1     75.56               324.0             1.1   \n",
       "1587030         915.1     75.74                 1.0             1.3   \n",
       "1587040         915.2     75.38               355.0             0.9   \n",
       "1587050         915.3     75.38               359.0             1.4   \n",
       "1587060         915.4     75.38                11.0             1.1   \n",
       "1587070         915.5     75.38                13.0             1.4   \n",
       "1587080         915.6     75.20                18.0             1.0   \n",
       "1587090         915.6     75.20               356.0             1.7   \n",
       "1587100         915.7     75.38                13.0             1.5   \n",
       "1587110         915.7     75.02                19.0             1.2   \n",
       "1587120         915.7     74.84                25.0             1.4   \n",
       "1587130         915.8     74.84                23.0             1.3   \n",
       "1587140         915.8     74.84                32.0             1.4   \n",
       "1587150         915.8     75.20                23.0             1.1   \n",
       "1587160         915.8     75.38                16.0             1.2   \n",
       "1587170         915.7     75.38               347.0             1.2   \n",
       "1587180         915.8     75.74               326.0             1.2   \n",
       "1587190         915.9     75.92               289.0             0.7   \n",
       "1587200         915.9     75.74               335.0             0.9   \n",
       "1587210         915.9     75.56               330.0             1.0   \n",
       "1587220         915.9     75.56               330.0             1.1   \n",
       "1587230         915.9     75.56               344.0             1.4   \n",
       "1587240         915.9     75.20               359.0             1.3   \n",
       "1587250         915.9     74.84                 6.0             1.5   \n",
       "\n",
       "         max_wind_direction  max_wind_speed  relative_humidity  \n",
       "0                     106.0             1.6               60.5  \n",
       "10                    167.0             1.8               38.5  \n",
       "20                    122.0             2.5               58.3  \n",
       "30                    103.0             2.4               57.9  \n",
       "40                     88.0             2.9               57.4  \n",
       "50                    119.0             1.5               51.4  \n",
       "60                    101.0             0.9               51.4  \n",
       "70                     97.0             2.4               62.2  \n",
       "80                     70.0             3.5               71.5  \n",
       "90                     75.0             4.2               72.5  \n",
       "100                   106.0             2.5               63.9  \n",
       "110                    88.0             2.5               59.1  \n",
       "120                    76.0             2.4               63.5  \n",
       "130                   203.0             0.7               50.4  \n",
       "140                    92.0             2.5               58.0  \n",
       "150                   176.0             2.1               50.2  \n",
       "160                   208.0             1.9               46.2  \n",
       "170                   109.0             1.6               45.2  \n",
       "180                   167.0             1.6               42.8  \n",
       "190                   172.0             1.6               36.8  \n",
       "200                    69.0             0.5               33.4  \n",
       "210                   196.0             2.2               34.4  \n",
       "220                    25.0             0.7               34.2  \n",
       "230                   192.0             1.9               37.8  \n",
       "240                   145.0             0.3               41.6  \n",
       "250                    67.0             2.2               51.8  \n",
       "260                   101.0             1.2               41.1  \n",
       "270                   174.0             1.1               36.0  \n",
       "280                    82.0             1.2               43.3  \n",
       "290                   176.0             1.7               43.0  \n",
       "...                     ...             ...                ...  \n",
       "1586960               264.0             0.7               43.4  \n",
       "1586970               216.0             0.9               43.7  \n",
       "1586980               216.0             0.9               43.9  \n",
       "1586990               350.0             0.7               43.4  \n",
       "1587000               352.0             0.6               43.9  \n",
       "1587010               348.0             0.5               45.5  \n",
       "1587020               347.0             1.5               46.0  \n",
       "1587030                13.0             1.7               45.8  \n",
       "1587040                 1.0             1.1               46.1  \n",
       "1587050                11.0             1.5               45.8  \n",
       "1587060                21.0             1.3               45.7  \n",
       "1587070                24.0             1.6               46.6  \n",
       "1587080                24.0             1.2               46.5  \n",
       "1587090                 1.0             1.9               47.2  \n",
       "1587100                24.0             1.7               46.7  \n",
       "1587110                28.0             1.4               46.7  \n",
       "1587120                35.0             1.6               46.5  \n",
       "1587130                30.0             1.5               46.9  \n",
       "1587140                41.0             1.7               45.5  \n",
       "1587150                31.0             1.4               45.7  \n",
       "1587160                28.0             1.5               46.3  \n",
       "1587170               353.0             1.4               48.1  \n",
       "1587180               337.0             1.6               48.3  \n",
       "1587190               309.0             0.9               48.1  \n",
       "1587200               348.0             1.1               47.8  \n",
       "1587210               341.0             1.3               47.8  \n",
       "1587220               341.0             1.4               48.0  \n",
       "1587230               352.0             1.7               48.0  \n",
       "1587240                 9.0             1.6               46.3  \n",
       "1587250                20.0             1.9               46.1  \n",
       "\n",
       "[158680 rows x 7 columns]"
      ]
     },
     "execution_count": 23,
     "metadata": {},
     "output_type": "execute_result"
    }
   ],
   "source": [
    "select_df"
   ]
  },
  {
   "cell_type": "markdown",
   "metadata": {},
   "source": [
    "scale the features using StandardScaler"
   ]
  },
  {
   "cell_type": "code",
   "execution_count": 24,
   "metadata": {},
   "outputs": [
    {
     "data": {
      "text/plain": [
       "array([[-1.48456281,  0.24544455, -0.68385323, ..., -0.62153592,\n",
       "        -0.74440309,  0.49233835],\n",
       "       [-1.48456281,  0.03247142, -0.19055941, ...,  0.03826701,\n",
       "        -0.66171726, -0.34710804],\n",
       "       [-1.51733167,  0.12374562, -0.65236639, ..., -0.44847286,\n",
       "        -0.37231683,  0.40839371],\n",
       "       ...,\n",
       "       [-0.30488381,  1.15818654,  1.90856325, ...,  2.0393087 ,\n",
       "        -0.70306017,  0.01538018],\n",
       "       [-0.30488381,  1.12776181,  2.06599745, ..., -1.67073075,\n",
       "        -0.74440309, -0.04948614],\n",
       "       [-0.30488381,  1.09733708, -1.63895404, ..., -1.55174989,\n",
       "        -0.62037434, -0.05711747]])"
      ]
     },
     "execution_count": 24,
     "metadata": {},
     "output_type": "execute_result"
    }
   ],
   "source": [
    "x=StandardScaler().fit_transform(select_df)\n",
    "x"
   ]
  },
  {
   "cell_type": "markdown",
   "metadata": {},
   "source": [
    "USE K-MEANS CLUSTERING"
   ]
  },
  {
   "cell_type": "code",
   "execution_count": 25,
   "metadata": {},
   "outputs": [
    {
     "name": "stdout",
     "output_type": "stream",
     "text": [
      "model\n",
      " KMeans(algorithm='auto', copy_x=True, init='k-means++', max_iter=300,\n",
      "    n_clusters=12, n_init=10, n_jobs=None, precompute_distances='auto',\n",
      "    random_state=None, tol=0.0001, verbose=0)\n"
     ]
    }
   ],
   "source": [
    "kmeans=KMeans(n_clusters=12)\n",
    "model=kmeans.fit(x)\n",
    "print(\"model\\n\",model)"
   ]
  },
  {
   "cell_type": "markdown",
   "metadata": {},
   "source": [
    "where are centres of 12 clustors we formed?"
   ]
  },
  {
   "cell_type": "code",
   "execution_count": 26,
   "metadata": {},
   "outputs": [
    {
     "data": {
      "text/plain": [
       "array([[ 1.19004576, -0.25465782, -1.15493046,  2.12248497, -1.05341968,\n",
       "         2.23920146, -1.13456519],\n",
       "       [ 0.13275018,  0.84085842,  1.41239265, -0.63816329,  1.67654123,\n",
       "        -0.58897944, -0.7136764 ],\n",
       "       [-0.83790214, -1.20126412,  0.37559352,  0.36943687,  0.47406303,\n",
       "         0.35737854,  1.36262661],\n",
       "       [ 0.23405125,  0.32061871,  1.8879544 , -0.65181511, -1.55175807,\n",
       "        -0.57669397, -0.28385048],\n",
       "       [-0.21041768,  0.63297452,  0.40857781,  0.73366478,  0.51673943,\n",
       "         0.67179778, -0.15177726],\n",
       "       [-0.16360596,  0.86341738, -1.31128474, -0.58959006, -1.16711916,\n",
       "        -0.60487726, -0.6413221 ],\n",
       "       [ 0.71543586,  0.45013494,  0.28539025, -0.53668283,  0.47260756,\n",
       "        -0.54292292, -0.76649212],\n",
       "       [-0.70717121,  0.53327461,  0.17508065, -0.58426628,  0.34474239,\n",
       "        -0.59768784, -0.10698769],\n",
       "       [-1.18257335, -0.87036596,  0.44683621,  1.98327763,  0.53831534,\n",
       "         1.94419717,  0.90875253],\n",
       "       [ 0.06113923, -0.78891905, -1.19730343, -0.5707786 , -1.0433185 ,\n",
       "        -0.58536331,  0.87915471],\n",
       "       [ 1.36772197, -0.08151669, -1.20650125, -0.05117506, -1.07519106,\n",
       "        -0.03092724, -0.97765701],\n",
       "       [ 0.24474269, -0.99627592,  0.65798299, -0.54706603,  0.84775072,\n",
       "        -0.52982624,  1.16125408]])"
      ]
     },
     "execution_count": 26,
     "metadata": {},
     "output_type": "execute_result"
    }
   ],
   "source": [
    "center=model.cluster_centers_\n",
    "center"
   ]
  },
  {
   "cell_type": "code",
   "execution_count": 36,
   "metadata": {},
   "outputs": [],
   "source": [
    "# function that creates a dataframe with a columns for clustor number\n",
    "\n",
    "\n",
    "def pd_centers(featuresUsed,center):\n",
    "    colNames= list(featuresUsed)\n",
    "    colNames.append('prediction')\n",
    "    #zip with a col called 'prediction'(index)\n",
    "    z=[np.append(A,index) for index, A in enumerate(center)]\n",
    "    \n",
    "    #convert to pandas dataframe for plotting\n",
    "    p=pd.DataFrame(z,columns=colNames)\n",
    "    p['prediction']=p['prediction'].astype(int)\n",
    "    return p"
   ]
  },
  {
   "cell_type": "code",
   "execution_count": 53,
   "metadata": {},
   "outputs": [],
   "source": [
    "#function thta creates parallel plots\n",
    "\n",
    "def parallel_plot(data):\n",
    "\tmy_colors = list(islice(cycle(['b', 'r', 'g', 'y', 'k']), None, len(data))) #rhm02\n",
    "\tplt.figure(figsize=(15,8)).gca().axes.set_ylim([-3,+3])\n",
    "\tparallel_coordinates(data, 'prediction', color = my_colors, marker='o')"
   ]
  },
  {
   "cell_type": "code",
   "execution_count": 54,
   "metadata": {},
   "outputs": [
    {
     "data": {
      "text/html": [
       "<div>\n",
       "<style scoped>\n",
       "    .dataframe tbody tr th:only-of-type {\n",
       "        vertical-align: middle;\n",
       "    }\n",
       "\n",
       "    .dataframe tbody tr th {\n",
       "        vertical-align: top;\n",
       "    }\n",
       "\n",
       "    .dataframe thead th {\n",
       "        text-align: right;\n",
       "    }\n",
       "</style>\n",
       "<table border=\"1\" class=\"dataframe\">\n",
       "  <thead>\n",
       "    <tr style=\"text-align: right;\">\n",
       "      <th></th>\n",
       "      <th>air_pressure</th>\n",
       "      <th>air_temp</th>\n",
       "      <th>avg_wind_direction</th>\n",
       "      <th>avg_wind_speed</th>\n",
       "      <th>max_wind_direction</th>\n",
       "      <th>max_wind_speed</th>\n",
       "      <th>relative_humidity</th>\n",
       "      <th>prediction</th>\n",
       "    </tr>\n",
       "  </thead>\n",
       "  <tbody>\n",
       "    <tr>\n",
       "      <th>0</th>\n",
       "      <td>1.190046</td>\n",
       "      <td>-0.254658</td>\n",
       "      <td>-1.154930</td>\n",
       "      <td>2.122485</td>\n",
       "      <td>-1.053420</td>\n",
       "      <td>2.239201</td>\n",
       "      <td>-1.134565</td>\n",
       "      <td>0</td>\n",
       "    </tr>\n",
       "    <tr>\n",
       "      <th>1</th>\n",
       "      <td>0.132750</td>\n",
       "      <td>0.840858</td>\n",
       "      <td>1.412393</td>\n",
       "      <td>-0.638163</td>\n",
       "      <td>1.676541</td>\n",
       "      <td>-0.588979</td>\n",
       "      <td>-0.713676</td>\n",
       "      <td>1</td>\n",
       "    </tr>\n",
       "    <tr>\n",
       "      <th>2</th>\n",
       "      <td>-0.837902</td>\n",
       "      <td>-1.201264</td>\n",
       "      <td>0.375594</td>\n",
       "      <td>0.369437</td>\n",
       "      <td>0.474063</td>\n",
       "      <td>0.357379</td>\n",
       "      <td>1.362627</td>\n",
       "      <td>2</td>\n",
       "    </tr>\n",
       "    <tr>\n",
       "      <th>3</th>\n",
       "      <td>0.234051</td>\n",
       "      <td>0.320619</td>\n",
       "      <td>1.887954</td>\n",
       "      <td>-0.651815</td>\n",
       "      <td>-1.551758</td>\n",
       "      <td>-0.576694</td>\n",
       "      <td>-0.283850</td>\n",
       "      <td>3</td>\n",
       "    </tr>\n",
       "    <tr>\n",
       "      <th>4</th>\n",
       "      <td>-0.210418</td>\n",
       "      <td>0.632975</td>\n",
       "      <td>0.408578</td>\n",
       "      <td>0.733665</td>\n",
       "      <td>0.516739</td>\n",
       "      <td>0.671798</td>\n",
       "      <td>-0.151777</td>\n",
       "      <td>4</td>\n",
       "    </tr>\n",
       "    <tr>\n",
       "      <th>5</th>\n",
       "      <td>-0.163606</td>\n",
       "      <td>0.863417</td>\n",
       "      <td>-1.311285</td>\n",
       "      <td>-0.589590</td>\n",
       "      <td>-1.167119</td>\n",
       "      <td>-0.604877</td>\n",
       "      <td>-0.641322</td>\n",
       "      <td>5</td>\n",
       "    </tr>\n",
       "    <tr>\n",
       "      <th>6</th>\n",
       "      <td>0.715436</td>\n",
       "      <td>0.450135</td>\n",
       "      <td>0.285390</td>\n",
       "      <td>-0.536683</td>\n",
       "      <td>0.472608</td>\n",
       "      <td>-0.542923</td>\n",
       "      <td>-0.766492</td>\n",
       "      <td>6</td>\n",
       "    </tr>\n",
       "    <tr>\n",
       "      <th>7</th>\n",
       "      <td>-0.707171</td>\n",
       "      <td>0.533275</td>\n",
       "      <td>0.175081</td>\n",
       "      <td>-0.584266</td>\n",
       "      <td>0.344742</td>\n",
       "      <td>-0.597688</td>\n",
       "      <td>-0.106988</td>\n",
       "      <td>7</td>\n",
       "    </tr>\n",
       "    <tr>\n",
       "      <th>8</th>\n",
       "      <td>-1.182573</td>\n",
       "      <td>-0.870366</td>\n",
       "      <td>0.446836</td>\n",
       "      <td>1.983278</td>\n",
       "      <td>0.538315</td>\n",
       "      <td>1.944197</td>\n",
       "      <td>0.908753</td>\n",
       "      <td>8</td>\n",
       "    </tr>\n",
       "    <tr>\n",
       "      <th>9</th>\n",
       "      <td>0.061139</td>\n",
       "      <td>-0.788919</td>\n",
       "      <td>-1.197303</td>\n",
       "      <td>-0.570779</td>\n",
       "      <td>-1.043318</td>\n",
       "      <td>-0.585363</td>\n",
       "      <td>0.879155</td>\n",
       "      <td>9</td>\n",
       "    </tr>\n",
       "    <tr>\n",
       "      <th>10</th>\n",
       "      <td>1.367722</td>\n",
       "      <td>-0.081517</td>\n",
       "      <td>-1.206501</td>\n",
       "      <td>-0.051175</td>\n",
       "      <td>-1.075191</td>\n",
       "      <td>-0.030927</td>\n",
       "      <td>-0.977657</td>\n",
       "      <td>10</td>\n",
       "    </tr>\n",
       "    <tr>\n",
       "      <th>11</th>\n",
       "      <td>0.244743</td>\n",
       "      <td>-0.996276</td>\n",
       "      <td>0.657983</td>\n",
       "      <td>-0.547066</td>\n",
       "      <td>0.847751</td>\n",
       "      <td>-0.529826</td>\n",
       "      <td>1.161254</td>\n",
       "      <td>11</td>\n",
       "    </tr>\n",
       "  </tbody>\n",
       "</table>\n",
       "</div>"
      ],
      "text/plain": [
       "    air_pressure  air_temp  avg_wind_direction  avg_wind_speed  \\\n",
       "0       1.190046 -0.254658           -1.154930        2.122485   \n",
       "1       0.132750  0.840858            1.412393       -0.638163   \n",
       "2      -0.837902 -1.201264            0.375594        0.369437   \n",
       "3       0.234051  0.320619            1.887954       -0.651815   \n",
       "4      -0.210418  0.632975            0.408578        0.733665   \n",
       "5      -0.163606  0.863417           -1.311285       -0.589590   \n",
       "6       0.715436  0.450135            0.285390       -0.536683   \n",
       "7      -0.707171  0.533275            0.175081       -0.584266   \n",
       "8      -1.182573 -0.870366            0.446836        1.983278   \n",
       "9       0.061139 -0.788919           -1.197303       -0.570779   \n",
       "10      1.367722 -0.081517           -1.206501       -0.051175   \n",
       "11      0.244743 -0.996276            0.657983       -0.547066   \n",
       "\n",
       "    max_wind_direction  max_wind_speed  relative_humidity  prediction  \n",
       "0            -1.053420        2.239201          -1.134565           0  \n",
       "1             1.676541       -0.588979          -0.713676           1  \n",
       "2             0.474063        0.357379           1.362627           2  \n",
       "3            -1.551758       -0.576694          -0.283850           3  \n",
       "4             0.516739        0.671798          -0.151777           4  \n",
       "5            -1.167119       -0.604877          -0.641322           5  \n",
       "6             0.472608       -0.542923          -0.766492           6  \n",
       "7             0.344742       -0.597688          -0.106988           7  \n",
       "8             0.538315        1.944197           0.908753           8  \n",
       "9            -1.043318       -0.585363           0.879155           9  \n",
       "10           -1.075191       -0.030927          -0.977657          10  \n",
       "11            0.847751       -0.529826           1.161254          11  "
      ]
     },
     "execution_count": 54,
     "metadata": {},
     "output_type": "execute_result"
    }
   ],
   "source": [
    "p=pd_centers(features,center)\n",
    "p"
   ]
  },
  {
   "cell_type": "markdown",
   "metadata": {},
   "source": [
    "DRY DAY"
   ]
  },
  {
   "cell_type": "code",
   "execution_count": 55,
   "metadata": {},
   "outputs": [
    {
     "data": {
      "image/png": "[encoded data removed]",
      "text/plain": [
       "<Figure size 1080x576 with 1 Axes>"
      ]
     },
     "metadata": {
      "needs_background": "light"
     },
     "output_type": "display_data"
    }
   ],
   "source": [
    "parallel_plot(p[p['relative_humidity']< -0.5])"
   ]
  },
  {
   "cell_type": "markdown",
   "metadata": {},
   "source": [
    "WARM DAYS"
   ]
  },
  {
   "cell_type": "code",
   "execution_count": 56,
   "metadata": {},
   "outputs": [
    {
     "data": {
      "image/png": "[encoded data removed]",
      "text/plain": [
       "<Figure size 1080x576 with 1 Axes>"
      ]
     },
     "metadata": {
      "needs_background": "light"
     },
     "output_type": "display_data"
    }
   ],
   "source": [
    "parallel_plot(p[p['air_temp']< -0.5])"
   ]
  },
  {
   "cell_type": "markdown",
   "metadata": {},
   "source": [
    "Cool Days"
   ]
  },
  {
   "cell_type": "code",
   "execution_count": 57,
   "metadata": {},
   "outputs": [
    {
     "data": {
      "image/png": "[encoded data removed]",
      "text/plain": [
       "<Figure size 1080x576 with 1 Axes>"
      ]
     },
     "metadata": {
      "needs_background": "light"
     },
     "output_type": "display_data"
    }
   ],
   "source": [
    "parallel_plot(p[(p['relative_humidity']>-0.5) &(p['air_temp']< -0.5)])"
   ]
  },
  {
   "cell_type": "code",
   "execution_count": null,
   "metadata": {},
   "outputs": [],
   "source": []
  },
  {
   "cell_type": "code",
   "execution_count": null,
   "metadata": {},
   "outputs": [],
   "source": []
  },
  {
   "cell_type": "markdown",
   "metadata": {},
   "source": [
    "# 29 April 2021"
   ]
  },
  {
   "cell_type": "code",
   "execution_count": 67,
   "metadata": {},
   "outputs": [
    {
     "data": {
      "text/html": [
       "<div>\n",
       "<style scoped>\n",
       "    .dataframe tbody tr th:only-of-type {\n",
       "        vertical-align: middle;\n",
       "    }\n",
       "\n",
       "    .dataframe tbody tr th {\n",
       "        vertical-align: top;\n",
       "    }\n",
       "\n",
       "    .dataframe thead th {\n",
       "        text-align: right;\n",
       "    }\n",
       "</style>\n",
       "<table border=\"1\" class=\"dataframe\">\n",
       "  <thead>\n",
       "    <tr style=\"text-align: right;\">\n",
       "      <th></th>\n",
       "      <th>id</th>\n",
       "      <th>battery_power</th>\n",
       "      <th>blue</th>\n",
       "      <th>clock_speed</th>\n",
       "      <th>dual_sim</th>\n",
       "      <th>fc</th>\n",
       "      <th>four_g</th>\n",
       "      <th>int_memory</th>\n",
       "      <th>m_dep</th>\n",
       "      <th>mobile_wt</th>\n",
       "      <th>...</th>\n",
       "      <th>pc</th>\n",
       "      <th>px_height</th>\n",
       "      <th>px_width</th>\n",
       "      <th>ram</th>\n",
       "      <th>sc_h</th>\n",
       "      <th>sc_w</th>\n",
       "      <th>talk_time</th>\n",
       "      <th>three_g</th>\n",
       "      <th>touch_screen</th>\n",
       "      <th>wifi</th>\n",
       "    </tr>\n",
       "  </thead>\n",
       "  <tbody>\n",
       "    <tr>\n",
       "      <th>0</th>\n",
       "      <td>1</td>\n",
       "      <td>1043</td>\n",
       "      <td>1</td>\n",
       "      <td>1.8</td>\n",
       "      <td>1</td>\n",
       "      <td>14</td>\n",
       "      <td>0</td>\n",
       "      <td>5</td>\n",
       "      <td>0.1</td>\n",
       "      <td>193</td>\n",
       "      <td>...</td>\n",
       "      <td>16</td>\n",
       "      <td>226</td>\n",
       "      <td>1412</td>\n",
       "      <td>3476</td>\n",
       "      <td>12</td>\n",
       "      <td>7</td>\n",
       "      <td>2</td>\n",
       "      <td>0</td>\n",
       "      <td>1</td>\n",
       "      <td>0</td>\n",
       "    </tr>\n",
       "    <tr>\n",
       "      <th>1</th>\n",
       "      <td>2</td>\n",
       "      <td>841</td>\n",
       "      <td>1</td>\n",
       "      <td>0.5</td>\n",
       "      <td>1</td>\n",
       "      <td>4</td>\n",
       "      <td>1</td>\n",
       "      <td>61</td>\n",
       "      <td>0.8</td>\n",
       "      <td>191</td>\n",
       "      <td>...</td>\n",
       "      <td>12</td>\n",
       "      <td>746</td>\n",
       "      <td>857</td>\n",
       "      <td>3895</td>\n",
       "      <td>6</td>\n",
       "      <td>0</td>\n",
       "      <td>7</td>\n",
       "      <td>1</td>\n",
       "      <td>0</td>\n",
       "      <td>0</td>\n",
       "    </tr>\n",
       "    <tr>\n",
       "      <th>2</th>\n",
       "      <td>3</td>\n",
       "      <td>1807</td>\n",
       "      <td>1</td>\n",
       "      <td>2.8</td>\n",
       "      <td>0</td>\n",
       "      <td>1</td>\n",
       "      <td>0</td>\n",
       "      <td>27</td>\n",
       "      <td>0.9</td>\n",
       "      <td>186</td>\n",
       "      <td>...</td>\n",
       "      <td>4</td>\n",
       "      <td>1270</td>\n",
       "      <td>1366</td>\n",
       "      <td>2396</td>\n",
       "      <td>17</td>\n",
       "      <td>10</td>\n",
       "      <td>10</td>\n",
       "      <td>0</td>\n",
       "      <td>1</td>\n",
       "      <td>1</td>\n",
       "    </tr>\n",
       "    <tr>\n",
       "      <th>3</th>\n",
       "      <td>4</td>\n",
       "      <td>1546</td>\n",
       "      <td>0</td>\n",
       "      <td>0.5</td>\n",
       "      <td>1</td>\n",
       "      <td>18</td>\n",
       "      <td>1</td>\n",
       "      <td>25</td>\n",
       "      <td>0.5</td>\n",
       "      <td>96</td>\n",
       "      <td>...</td>\n",
       "      <td>20</td>\n",
       "      <td>295</td>\n",
       "      <td>1752</td>\n",
       "      <td>3893</td>\n",
       "      <td>10</td>\n",
       "      <td>0</td>\n",
       "      <td>7</td>\n",
       "      <td>1</td>\n",
       "      <td>1</td>\n",
       "      <td>0</td>\n",
       "    </tr>\n",
       "    <tr>\n",
       "      <th>4</th>\n",
       "      <td>5</td>\n",
       "      <td>1434</td>\n",
       "      <td>0</td>\n",
       "      <td>1.4</td>\n",
       "      <td>0</td>\n",
       "      <td>11</td>\n",
       "      <td>1</td>\n",
       "      <td>49</td>\n",
       "      <td>0.5</td>\n",
       "      <td>108</td>\n",
       "      <td>...</td>\n",
       "      <td>18</td>\n",
       "      <td>749</td>\n",
       "      <td>810</td>\n",
       "      <td>1773</td>\n",
       "      <td>15</td>\n",
       "      <td>8</td>\n",
       "      <td>7</td>\n",
       "      <td>1</td>\n",
       "      <td>0</td>\n",
       "      <td>1</td>\n",
       "    </tr>\n",
       "  </tbody>\n",
       "</table>\n",
       "<p>5 rows × 21 columns</p>\n",
       "</div>"
      ],
      "text/plain": [
       "   id  battery_power  blue  clock_speed  dual_sim  fc  four_g  int_memory  \\\n",
       "0   1           1043     1          1.8         1  14       0           5   \n",
       "1   2            841     1          0.5         1   4       1          61   \n",
       "2   3           1807     1          2.8         0   1       0          27   \n",
       "3   4           1546     0          0.5         1  18       1          25   \n",
       "4   5           1434     0          1.4         0  11       1          49   \n",
       "\n",
       "   m_dep  mobile_wt  ...   pc  px_height  px_width   ram  sc_h  sc_w  \\\n",
       "0    0.1        193  ...   16        226      1412  3476    12     7   \n",
       "1    0.8        191  ...   12        746       857  3895     6     0   \n",
       "2    0.9        186  ...    4       1270      1366  2396    17    10   \n",
       "3    0.5         96  ...   20        295      1752  3893    10     0   \n",
       "4    0.5        108  ...   18        749       810  1773    15     8   \n",
       "\n",
       "   talk_time  three_g  touch_screen  wifi  \n",
       "0          2        0             1     0  \n",
       "1          7        1             0     0  \n",
       "2         10        0             1     1  \n",
       "3          7        1             1     0  \n",
       "4          7        1             0     1  \n",
       "\n",
       "[5 rows x 21 columns]"
      ]
     },
     "execution_count": 67,
     "metadata": {},
     "output_type": "execute_result"
    }
   ],
   "source": [
    "mob_test = pd.read_csv('C:/Users/lenovo/Desktop/datasets/mobiledata/mobile_test.csv')\n",
    "mob_test.head()"
   ]
  },
  {
   "cell_type": "code",
   "execution_count": 68,
   "metadata": {},
   "outputs": [
    {
     "data": {
      "text/plain": [
       "Index(['id', 'battery_power', 'blue', 'clock_speed', 'dual_sim', 'fc',\n",
       "       'four_g', 'int_memory', 'm_dep', 'mobile_wt', 'n_cores', 'pc',\n",
       "       'px_height', 'px_width', 'ram', 'sc_h', 'sc_w', 'talk_time', 'three_g',\n",
       "       'touch_screen', 'wifi'],\n",
       "      dtype='object')"
      ]
     },
     "execution_count": 68,
     "metadata": {},
     "output_type": "execute_result"
    }
   ],
   "source": [
    "mob_test.columns"
   ]
  },
  {
   "cell_type": "code",
   "execution_count": 42,
   "metadata": {},
   "outputs": [
    {
     "data": {
      "text/plain": [
       "(1000, 21)"
      ]
     },
     "execution_count": 42,
     "metadata": {},
     "output_type": "execute_result"
    }
   ],
   "source": [
    "mt.shape"
   ]
  },
  {
   "cell_type": "code",
   "execution_count": 43,
   "metadata": {},
   "outputs": [
    {
     "data": {
      "text/plain": [
       "id               False\n",
       "battery_power    False\n",
       "blue             False\n",
       "clock_speed      False\n",
       "dual_sim         False\n",
       "fc               False\n",
       "four_g           False\n",
       "int_memory       False\n",
       "m_dep            False\n",
       "mobile_wt        False\n",
       "n_cores          False\n",
       "pc               False\n",
       "px_height        False\n",
       "px_width         False\n",
       "ram              False\n",
       "sc_h             False\n",
       "sc_w             False\n",
       "talk_time        False\n",
       "three_g          False\n",
       "touch_screen     False\n",
       "wifi             False\n",
       "dtype: bool"
      ]
     },
     "execution_count": 43,
     "metadata": {},
     "output_type": "execute_result"
    }
   ],
   "source": [
    "mt.isnull().any()"
   ]
  },
  {
   "cell_type": "code",
   "execution_count": 59,
   "metadata": {},
   "outputs": [
    {
     "data": {
      "text/plain": [
       "1    517\n",
       "0    483\n",
       "Name: dual_sim, dtype: int64"
      ]
     },
     "execution_count": 59,
     "metadata": {},
     "output_type": "execute_result"
    }
   ],
   "source": [
    "# find number of mobile who are dule_sim=1 and not dule_sim=0\n",
    "dule_sim_count=mt['dual_sim'].value_counts()\n",
    "dule_sim_count"
   ]
  },
  {
   "cell_type": "code",
   "execution_count": 60,
   "metadata": {},
   "outputs": [
    {
     "data": {
      "text/plain": [
       "<matplotlib.axes._subplots.AxesSubplot at 0xc6907f0>"
      ]
     },
     "execution_count": 60,
     "metadata": {},
     "output_type": "execute_result"
    },
    {
     "data": {
      "image/png": "[encoded data removed]",
      "text/plain": [
       "<Figure size 432x288 with 1 Axes>"
      ]
     },
     "metadata": {},
     "output_type": "display_data"
    }
   ],
   "source": [
    "# pie chart \n",
    "dule_sim_count.plot.pie(autopct=\"%.1f%%\")"
   ]
  },
  {
   "cell_type": "code",
   "execution_count": 65,
   "metadata": {},
   "outputs": [
    {
     "data": {
      "text/plain": [
       "Text(0.5, 1.0, 'Histogram')"
      ]
     },
     "execution_count": 65,
     "metadata": {},
     "output_type": "execute_result"
    },
    {
     "data": {
      "image/png": "[encoded data removed]",
      "text/plain": [
       "<Figure size 432x288 with 1 Axes>"
      ]
     },
     "metadata": {
      "needs_background": "light"
     },
     "output_type": "display_data"
    }
   ],
   "source": [
    "#Graphically representation of dule sim\n",
    "plt.hist(mt[\"dual_sim\"],10 , density = False, facecolor = 'green')\n",
    "plt.xlabel('Dule sim  ')\n",
    "plt.ylabel('Dule sim count')\n",
    "plt.title('Histogram')"
   ]
  },
  {
   "cell_type": "code",
   "execution_count": 10,
   "metadata": {},
   "outputs": [
    {
     "data": {
      "text/html": [
       "<div>\n",
       "<style scoped>\n",
       "    .dataframe tbody tr th:only-of-type {\n",
       "        vertical-align: middle;\n",
       "    }\n",
       "\n",
       "    .dataframe tbody tr th {\n",
       "        vertical-align: top;\n",
       "    }\n",
       "\n",
       "    .dataframe thead th {\n",
       "        text-align: right;\n",
       "    }\n",
       "</style>\n",
       "<table border=\"1\" class=\"dataframe\">\n",
       "  <thead>\n",
       "    <tr style=\"text-align: right;\">\n",
       "      <th></th>\n",
       "      <th>Id</th>\n",
       "      <th>SepalLengthCm</th>\n",
       "      <th>SepalWidthCm</th>\n",
       "      <th>PetalLengthCm</th>\n",
       "      <th>PetalWidthCm</th>\n",
       "      <th>Species</th>\n",
       "    </tr>\n",
       "  </thead>\n",
       "  <tbody>\n",
       "    <tr>\n",
       "      <th>0</th>\n",
       "      <td>1</td>\n",
       "      <td>5.1</td>\n",
       "      <td>3.5</td>\n",
       "      <td>1.4</td>\n",
       "      <td>0.2</td>\n",
       "      <td>Iris-setosa</td>\n",
       "    </tr>\n",
       "    <tr>\n",
       "      <th>1</th>\n",
       "      <td>2</td>\n",
       "      <td>4.9</td>\n",
       "      <td>3.0</td>\n",
       "      <td>1.4</td>\n",
       "      <td>0.2</td>\n",
       "      <td>Iris-setosa</td>\n",
       "    </tr>\n",
       "    <tr>\n",
       "      <th>2</th>\n",
       "      <td>3</td>\n",
       "      <td>4.7</td>\n",
       "      <td>3.2</td>\n",
       "      <td>1.3</td>\n",
       "      <td>0.2</td>\n",
       "      <td>Iris-setosa</td>\n",
       "    </tr>\n",
       "    <tr>\n",
       "      <th>3</th>\n",
       "      <td>4</td>\n",
       "      <td>4.6</td>\n",
       "      <td>3.1</td>\n",
       "      <td>1.5</td>\n",
       "      <td>0.2</td>\n",
       "      <td>Iris-setosa</td>\n",
       "    </tr>\n",
       "    <tr>\n",
       "      <th>4</th>\n",
       "      <td>5</td>\n",
       "      <td>5.0</td>\n",
       "      <td>3.6</td>\n",
       "      <td>1.4</td>\n",
       "      <td>0.2</td>\n",
       "      <td>Iris-setosa</td>\n",
       "    </tr>\n",
       "  </tbody>\n",
       "</table>\n",
       "</div>"
      ],
      "text/plain": [
       "   Id  SepalLengthCm  SepalWidthCm  PetalLengthCm  PetalWidthCm      Species\n",
       "0   1            5.1           3.5            1.4           0.2  Iris-setosa\n",
       "1   2            4.9           3.0            1.4           0.2  Iris-setosa\n",
       "2   3            4.7           3.2            1.3           0.2  Iris-setosa\n",
       "3   4            4.6           3.1            1.5           0.2  Iris-setosa\n",
       "4   5            5.0           3.6            1.4           0.2  Iris-setosa"
      ]
     },
     "execution_count": 10,
     "metadata": {},
     "output_type": "execute_result"
    }
   ],
   "source": [
    "iris = pd.read_csv('C:/Users/lenovo/Desktop/datasets/Iris.csv')\n",
    "iris.head()"
   ]
  },
  {
   "cell_type": "code",
   "execution_count": 12,
   "metadata": {},
   "outputs": [],
   "source": [
    "data=iris.drop(['Species'],axis=1)"
   ]
  },
  {
   "cell_type": "code",
   "execution_count": 13,
   "metadata": {},
   "outputs": [
    {
     "data": {
      "text/html": [
       "<div>\n",
       "<style scoped>\n",
       "    .dataframe tbody tr th:only-of-type {\n",
       "        vertical-align: middle;\n",
       "    }\n",
       "\n",
       "    .dataframe tbody tr th {\n",
       "        vertical-align: top;\n",
       "    }\n",
       "\n",
       "    .dataframe thead th {\n",
       "        text-align: right;\n",
       "    }\n",
       "</style>\n",
       "<table border=\"1\" class=\"dataframe\">\n",
       "  <thead>\n",
       "    <tr style=\"text-align: right;\">\n",
       "      <th></th>\n",
       "      <th>Id</th>\n",
       "      <th>SepalLengthCm</th>\n",
       "      <th>SepalWidthCm</th>\n",
       "      <th>PetalLengthCm</th>\n",
       "      <th>PetalWidthCm</th>\n",
       "      <th>Species</th>\n",
       "    </tr>\n",
       "  </thead>\n",
       "  <tbody>\n",
       "    <tr>\n",
       "      <th>0</th>\n",
       "      <td>1</td>\n",
       "      <td>5.1</td>\n",
       "      <td>3.5</td>\n",
       "      <td>1.4</td>\n",
       "      <td>0.2</td>\n",
       "      <td>Iris-setosa</td>\n",
       "    </tr>\n",
       "    <tr>\n",
       "      <th>1</th>\n",
       "      <td>2</td>\n",
       "      <td>4.9</td>\n",
       "      <td>3.0</td>\n",
       "      <td>1.4</td>\n",
       "      <td>0.2</td>\n",
       "      <td>Iris-setosa</td>\n",
       "    </tr>\n",
       "    <tr>\n",
       "      <th>2</th>\n",
       "      <td>3</td>\n",
       "      <td>4.7</td>\n",
       "      <td>3.2</td>\n",
       "      <td>1.3</td>\n",
       "      <td>0.2</td>\n",
       "      <td>Iris-setosa</td>\n",
       "    </tr>\n",
       "    <tr>\n",
       "      <th>3</th>\n",
       "      <td>4</td>\n",
       "      <td>4.6</td>\n",
       "      <td>3.1</td>\n",
       "      <td>1.5</td>\n",
       "      <td>0.2</td>\n",
       "      <td>Iris-setosa</td>\n",
       "    </tr>\n",
       "    <tr>\n",
       "      <th>4</th>\n",
       "      <td>5</td>\n",
       "      <td>5.0</td>\n",
       "      <td>3.6</td>\n",
       "      <td>1.4</td>\n",
       "      <td>0.2</td>\n",
       "      <td>Iris-setosa</td>\n",
       "    </tr>\n",
       "  </tbody>\n",
       "</table>\n",
       "</div>"
      ],
      "text/plain": [
       "   Id  SepalLengthCm  SepalWidthCm  PetalLengthCm  PetalWidthCm      Species\n",
       "0   1            5.1           3.5            1.4           0.2  Iris-setosa\n",
       "1   2            4.9           3.0            1.4           0.2  Iris-setosa\n",
       "2   3            4.7           3.2            1.3           0.2  Iris-setosa\n",
       "3   4            4.6           3.1            1.5           0.2  Iris-setosa\n",
       "4   5            5.0           3.6            1.4           0.2  Iris-setosa"
      ]
     },
     "execution_count": 13,
     "metadata": {},
     "output_type": "execute_result"
    }
   ],
   "source": [
    "iris.head()"
   ]
  },
  {
   "cell_type": "code",
   "execution_count": null,
   "metadata": {},
   "outputs": [],
   "source": []
  }
 ],
 "metadata": {
  "kernelspec": {
   "display_name": "Python 3",
   "language": "python",
   "name": "python3"
  },
  "language_info": {
   "codemirror_mode": {
    "name": "ipython",
    "version": 3
   },
   "file_extension": ".py",
   "mimetype": "text/x-python",
   "name": "python",
   "nbconvert_exporter": "python",
   "pygments_lexer": "ipython3",
   "version": "3.7.1"
  }
 },
 "nbformat": 4,
 "nbformat_minor": 2
}
